{
 "cells": [
  {
   "cell_type": "markdown",
   "metadata": {},
   "source": [
    "![knlogo](https://wp.kntu.ac.ir/aliakbarian/ode/images/logo.png)"
   ]
  },
  {
   "cell_type": "markdown",
   "metadata": {},
   "source": [
    "<a href=\"https://colab.research.google.com/github/HesamTaherzadeh/Least-square-Optimization-And-Hypothesis-Testing/blob/main/Pre-Statistics.ipynb\" target=\"_parent\"><img src=\"https://colab.research.google.com/assets/colab-badge.svg\" alt=\"Open In Colab\"/></a>"
   ]
  },
  {
   "cell_type": "markdown",
   "metadata": {},
   "source": [
    "<h1 style=\"color:Gray\"> Least square optimization and hypothesis testing</h1>\n",
    "<h2 style=\"color:Gray font'Serif'\">Prerequisites(0): Introduction to Linear Algebra </h2>\n",
    "<h2 style=\"color:Gray\"> Dr. Masoud Mashhadi </h2>\n",
    "<h3 style=\"color:Gray\"> Amirhesam Taherzadegani </h3>\n",
    "<h4 style=\"color:Gray\"> Geomatics engineering and geodesy faculty , KNTU </h4>"
   ]
  },
  {
   "cell_type": "code",
   "execution_count": 1,
   "metadata": {},
   "outputs": [],
   "source": [
    "import numpy as np  \n",
    "import sympy as sp "
   ]
  },
  {
   "cell_type": "markdown",
   "metadata": {},
   "source": [
    "## Transpose"
   ]
  },
  {
   "cell_type": "markdown",
   "metadata": {},
   "source": [
    "## $ A^{T}_{i,j} = A_{j,i} $"
   ]
  },
  {
   "cell_type": "code",
   "execution_count": 4,
   "metadata": {},
   "outputs": [],
   "source": [
    "m1 = np.array([[1, 2, 3],\n",
    "              [4, 5, 6],\n",
    "              [7, 8, 9]])"
   ]
  },
  {
   "cell_type": "code",
   "execution_count": 5,
   "metadata": {},
   "outputs": [
    {
     "data": {
      "text/plain": [
       "array([[1, 4, 7],\n",
       "       [2, 5, 8],\n",
       "       [3, 6, 9]])"
      ]
     },
     "execution_count": 5,
     "metadata": {},
     "output_type": "execute_result"
    }
   ],
   "source": [
    "m1.T"
   ]
  },
  {
   "cell_type": "markdown",
   "metadata": {},
   "source": [
    "## $(A + B)^T = A^T + B^T$"
   ]
  },
  {
   "cell_type": "code",
   "execution_count": 16,
   "metadata": {},
   "outputs": [],
   "source": [
    "np.random.seed(0)\n",
    "m2 = np.random.randint(1, 10, (3, 3))\n",
    "m3 = np.random.randint(1, 10, (3, 3))"
   ]
  },
  {
   "cell_type": "code",
   "execution_count": 18,
   "metadata": {},
   "outputs": [
    {
     "data": {
      "text/plain": [
       "array([[8, 7, 9],\n",
       "       [9, 2, 7],\n",
       "       [8, 8, 9]])"
      ]
     },
     "execution_count": 18,
     "metadata": {},
     "output_type": "execute_result"
    }
   ],
   "source": [
    "m3"
   ]
  },
  {
   "cell_type": "code",
   "execution_count": 17,
   "metadata": {},
   "outputs": [
    {
     "data": {
      "text/plain": [
       "array([[6, 1, 4],\n",
       "       [4, 8, 4],\n",
       "       [6, 3, 5]])"
      ]
     },
     "execution_count": 17,
     "metadata": {},
     "output_type": "execute_result"
    }
   ],
   "source": [
    "m2"
   ]
  },
  {
   "cell_type": "code",
   "execution_count": 20,
   "metadata": {},
   "outputs": [
    {
     "data": {
      "text/plain": [
       "array([[14, 13, 14],\n",
       "       [ 8, 10, 11],\n",
       "       [13, 11, 14]])"
      ]
     },
     "execution_count": 20,
     "metadata": {},
     "output_type": "execute_result"
    }
   ],
   "source": [
    "(m2 + m3).T"
   ]
  },
  {
   "cell_type": "code",
   "execution_count": 21,
   "metadata": {},
   "outputs": [
    {
     "data": {
      "text/plain": [
       "array([[14, 13, 14],\n",
       "       [ 8, 10, 11],\n",
       "       [13, 11, 14]])"
      ]
     },
     "execution_count": 21,
     "metadata": {},
     "output_type": "execute_result"
    }
   ],
   "source": [
    "m2.T + m3.T "
   ]
  },
  {
   "cell_type": "code",
   "execution_count": 25,
   "metadata": {},
   "outputs": [],
   "source": [
    "assert np.all((m2 + m3).T == m2.T + m3.T)"
   ]
  },
  {
   "cell_type": "markdown",
   "metadata": {},
   "source": [
    "## Trace"
   ]
  },
  {
   "cell_type": "markdown",
   "metadata": {},
   "source": [
    "## $Trace(A) = \\sum{a_{ii}}$ "
   ]
  },
  {
   "cell_type": "code",
   "execution_count": 28,
   "metadata": {},
   "outputs": [
    {
     "data": {
      "text/plain": [
       "array([[8, 7, 9],\n",
       "       [9, 2, 7],\n",
       "       [8, 8, 9]])"
      ]
     },
     "execution_count": 28,
     "metadata": {},
     "output_type": "execute_result"
    }
   ],
   "source": [
    "m3"
   ]
  },
  {
   "cell_type": "code",
   "execution_count": 27,
   "metadata": {},
   "outputs": [
    {
     "data": {
      "text/plain": [
       "19"
      ]
     },
     "execution_count": 27,
     "metadata": {},
     "output_type": "execute_result"
    }
   ],
   "source": [
    "np.trace(m3)"
   ]
  },
  {
   "cell_type": "code",
   "execution_count": 34,
   "metadata": {},
   "outputs": [
    {
     "data": {
      "text/plain": [
       "2"
      ]
     },
     "execution_count": 34,
     "metadata": {},
     "output_type": "execute_result"
    }
   ],
   "source": [
    "\"\"\"\n",
    "indexing : ndarray[position,index]\n",
    "\n",
    "slicing : ndarray[position_0 : position_1]\n",
    "\n",
    "all intervals in [) except in np.linspace\n",
    "\"\"\"\n",
    "m3[1, 1]"
   ]
  },
  {
   "cell_type": "code",
   "execution_count": 35,
   "metadata": {},
   "outputs": [
    {
     "data": {
      "text/plain": [
       "array([[2, 7],\n",
       "       [8, 9]])"
      ]
     },
     "execution_count": 35,
     "metadata": {},
     "output_type": "execute_result"
    }
   ],
   "source": [
    "m3[1:3, 1:3]"
   ]
  },
  {
   "cell_type": "code",
   "execution_count": 29,
   "metadata": {},
   "outputs": [],
   "source": [
    "result = 0\n",
    "for i in range(m3.shape[0]):\n",
    "    result += m3[i, i]"
   ]
  },
  {
   "cell_type": "code",
   "execution_count": 30,
   "metadata": {},
   "outputs": [
    {
     "data": {
      "text/plain": [
       "19"
      ]
     },
     "execution_count": 30,
     "metadata": {},
     "output_type": "execute_result"
    }
   ],
   "source": [
    "result"
   ]
  },
  {
   "cell_type": "markdown",
   "metadata": {},
   "source": [
    "# Inverse"
   ]
  },
  {
   "cell_type": "markdown",
   "metadata": {},
   "source": [
    "## $A^{-1}A = I$"
   ]
  },
  {
   "cell_type": "code",
   "execution_count": 56,
   "metadata": {},
   "outputs": [
    {
     "data": {
      "text/plain": [
       "array([[2, 1, 5, 8, 4, 3, 8, 3, 1, 1],\n",
       "       [5, 6, 6, 7, 9, 5, 2, 5, 9, 2],\n",
       "       [2, 8, 4, 7, 8, 3, 1, 4, 6, 5],\n",
       "       [5, 7, 5, 5, 4, 5, 5, 9, 5, 4],\n",
       "       [8, 6, 6, 1, 2, 6, 4, 1, 6, 1],\n",
       "       [2, 3, 5, 3, 1, 4, 3, 1, 8, 6],\n",
       "       [1, 3, 8, 3, 3, 4, 4, 3, 4, 5],\n",
       "       [2, 3, 2, 5, 7, 9, 3, 4, 1, 1],\n",
       "       [7, 1, 7, 4, 4, 9, 9, 9, 3, 4],\n",
       "       [3, 1, 9, 9, 4, 9, 3, 9, 5, 4]])"
      ]
     },
     "execution_count": 56,
     "metadata": {},
     "output_type": "execute_result"
    }
   ],
   "source": [
    "m4 = np.random.randint(1, 10, (10, 10))\n",
    "m4"
   ]
  },
  {
   "cell_type": "code",
   "execution_count": 57,
   "metadata": {},
   "outputs": [
    {
     "data": {
      "text/plain": [
       "array([[-0.02042475, -0.08957295,  0.25407075, -0.1855666 ,  0.12746314,\n",
       "        -0.06621295, -0.18118493, -0.14913752,  0.18832912,  0.06076089],\n",
       "       [ 0.01646896, -0.06059659, -0.01895776,  0.14815637,  0.05794709,\n",
       "        -0.0245819 ,  0.05575864,  0.06038387, -0.13542541, -0.0252609 ],\n",
       "       [-0.00516433,  0.01536946, -0.01724517, -0.04086204,  0.05322192,\n",
       "        -0.11454898,  0.16954293, -0.05453978, -0.03340157,  0.04965069],\n",
       "       [ 0.09355497, -0.08862832,  0.11910274, -0.0490139 ,  0.04408898,\n",
       "         0.02127655, -0.14943494, -0.0423585 , -0.03118468,  0.1066918 ],\n",
       "       [-0.03409528,  0.10193055,  0.05865557, -0.10707482, -0.05716202,\n",
       "        -0.06673487,  0.06354759,  0.01056468,  0.10294912, -0.07931806],\n",
       "       [-0.02934319, -0.03884461, -0.07476376,  0.02024336,  0.02534617,\n",
       "         0.05830777, -0.00154975,  0.14122105, -0.05436666,  0.02716983],\n",
       "       [ 0.08911277,  0.04715578, -0.14300987,  0.10183234, -0.05599024,\n",
       "         0.07002932,  0.0510255 ,  0.05663145, -0.0199587 , -0.11795355],\n",
       "       [-0.04385717,  0.06447146, -0.09894524,  0.14298546, -0.08450364,\n",
       "        -0.03014892,  0.02258993, -0.00732567, -0.00534881,  0.00471675],\n",
       "       [-0.00223428,  0.16852277, -0.20139979,  0.09776062, -0.07648882,\n",
       "         0.13901968, -0.00524897,  0.03205535, -0.0718546 , -0.04871904],\n",
       "       [-0.05292325, -0.15844996,  0.27620367, -0.15440835, -0.00116364,\n",
       "         0.04274903, -0.06588987, -0.07959375,  0.17412651,  0.01591118]])"
      ]
     },
     "execution_count": 57,
     "metadata": {},
     "output_type": "execute_result"
    }
   ],
   "source": [
    "np.linalg.inv(m4)"
   ]
  },
  {
   "cell_type": "code",
   "execution_count": 58,
   "metadata": {},
   "outputs": [],
   "source": [
    "mat_1 = sp.Matrix(m4)"
   ]
  },
  {
   "cell_type": "code",
   "execution_count": 59,
   "metadata": {},
   "outputs": [
    {
     "data": {
      "text/latex": [
       "$\\displaystyle \\left[\\begin{matrix}-0.0204247514196122 & -0.0895729520619509 & 0.254070752445762 & -0.185566602810081 & 0.127463141870611 & -0.0662129510978861 & -0.181184931818724 & -0.149137516607047 & 0.188329117710566 & 0.0607608935325358\\\\0.0164689583698639 & -0.0605965868290282 & -0.0189577558827596 & 0.148156367049697 & 0.0579470864152201 & -0.0245818997889659 & 0.0557586439207359 & 0.0603838671372178 & -0.135425410019303 & -0.0252609019604762\\\\-0.00516433174580427 & 0.0153694617149427 & -0.017245167872752 & -0.0408620366993968 & 0.053221922824828 & -0.114548982007758 & 0.16954293333972 & -0.0545397832221849 & -0.0334015678715011 & 0.0496506879271444\\\\0.0935549696081857 & -0.0886283235799308 & 0.119102739339971 & -0.0490139017288922 & 0.044088984508937 & 0.0212765454383067 & -0.149434935193714 & -0.0423584982482977 & -0.0311846763110272 & 0.106691802522397\\\\-0.0340952776253842 & 0.10193055005875 & 0.0586555673106045 & -0.107074816187635 & -0.0571620167697964 & -0.0667348732388179 & 0.0635475863255636 & 0.0105646839599869 & 0.102949123231057 & -0.0793180616509819\\\\-0.0293431903880903 & -0.0388446063964941 & -0.0747637640661754 & 0.0202433600223199 & 0.025346172887491 & 0.0583077717585588 & -0.00154974952237222 & 0.141221049166469 & -0.0543666608675318 & 0.0271698304748378\\\\0.0891127712586027 & 0.0471557760260712 & -0.143009869995396 & 0.101832344849053 & -0.0559902406737593 & 0.0700293208429985 & 0.0510254973037836 & 0.0566314505873664 & -0.0199586977527755 & -0.117953545802348\\\\-0.0438571716548761 & 0.0644714563961623 & -0.0989452413445624 & 0.142985463289989 & -0.0845036412134983 & -0.0301489167503295 & 0.0225899312730057 & -0.0073256726278265 & -0.00534880576083671 & 0.0047167483617571\\\\-0.00223428133807627 & 0.168522771189196 & -0.201399785571839 & 0.0977606199486224 & -0.0764888223772268 & 0.139019678745215 & -0.00524896708153235 & 0.0320553473909346 & -0.0718545991881262 & -0.0487190445751102\\\\-0.0529232457674133 & -0.158449958614109 & 0.276203668160027 & -0.154408348028839 & -0.00116364052756823 & 0.0427490309584567 & -0.0658898673350646 & -0.0795937493715591 & 0.174126512615101 & 0.0159111761685403\\end{matrix}\\right]$"
      ],
      "text/plain": [
       "Matrix([\n",
       "[ -0.0204247514196122, -0.0895729520619509,   0.254070752445762,  -0.185566602810081,    0.127463141870611, -0.0662129510978861,   -0.181184931818724,  -0.149137516607047,    0.188329117710566,  0.0607608935325358],\n",
       "[  0.0164689583698639, -0.0605965868290282, -0.0189577558827596,   0.148156367049697,   0.0579470864152201, -0.0245818997889659,   0.0557586439207359,  0.0603838671372178,   -0.135425410019303, -0.0252609019604762],\n",
       "[-0.00516433174580427,  0.0153694617149427,  -0.017245167872752, -0.0408620366993968,    0.053221922824828,  -0.114548982007758,     0.16954293333972, -0.0545397832221849,  -0.0334015678715011,  0.0496506879271444],\n",
       "[  0.0935549696081857, -0.0886283235799308,   0.119102739339971, -0.0490139017288922,    0.044088984508937,  0.0212765454383067,   -0.149434935193714, -0.0423584982482977,  -0.0311846763110272,   0.106691802522397],\n",
       "[ -0.0340952776253842,    0.10193055005875,  0.0586555673106045,  -0.107074816187635,  -0.0571620167697964, -0.0667348732388179,   0.0635475863255636,  0.0105646839599869,    0.102949123231057, -0.0793180616509819],\n",
       "[ -0.0293431903880903, -0.0388446063964941, -0.0747637640661754,  0.0202433600223199,    0.025346172887491,  0.0583077717585588, -0.00154974952237222,   0.141221049166469,  -0.0543666608675318,  0.0271698304748378],\n",
       "[  0.0891127712586027,  0.0471557760260712,  -0.143009869995396,   0.101832344849053,  -0.0559902406737593,  0.0700293208429985,   0.0510254973037836,  0.0566314505873664,  -0.0199586977527755,  -0.117953545802348],\n",
       "[ -0.0438571716548761,  0.0644714563961623, -0.0989452413445624,   0.142985463289989,  -0.0845036412134983, -0.0301489167503295,   0.0225899312730057, -0.0073256726278265, -0.00534880576083671,  0.0047167483617571],\n",
       "[-0.00223428133807627,   0.168522771189196,  -0.201399785571839,  0.0977606199486224,  -0.0764888223772268,   0.139019678745215, -0.00524896708153235,  0.0320553473909346,  -0.0718545991881262, -0.0487190445751102],\n",
       "[ -0.0529232457674133,  -0.158449958614109,   0.276203668160027,  -0.154408348028839, -0.00116364052756823,  0.0427490309584567,  -0.0658898673350646, -0.0795937493715591,    0.174126512615101,  0.0159111761685403]])"
      ]
     },
     "execution_count": 59,
     "metadata": {},
     "output_type": "execute_result"
    }
   ],
   "source": [
    "mat_1.inv().evalf()"
   ]
  },
  {
   "cell_type": "code",
   "execution_count": 60,
   "metadata": {},
   "outputs": [
    {
     "data": {
      "text/latex": [
       "$\\displaystyle \\lambda^{10} - 38 \\lambda^{9} - 306 \\lambda^{8} - 1950 \\lambda^{7} - 13224 \\lambda^{6} + 14171 \\lambda^{5} + 212732 \\lambda^{4} + 4180053 \\lambda^{3} + 18512797 \\lambda^{2} + 24918254 \\lambda + 157333812$"
      ],
      "text/plain": [
       "lambda**10 - 38*lambda**9 - 306*lambda**8 - 1950*lambda**7 - 13224*lambda**6 + 14171*lambda**5 + 212732*lambda**4 + 4180053*lambda**3 + 18512797*lambda**2 + 24918254*lambda + 157333812"
      ]
     },
     "execution_count": 60,
     "metadata": {},
     "output_type": "execute_result"
    }
   ],
   "source": [
    "mat_1.charpoly().as_expr()"
   ]
  },
  {
   "cell_type": "markdown",
   "metadata": {},
   "source": [
    "# Gauss-Jordan"
   ]
  },
  {
   "cell_type": "code",
   "execution_count": 61,
   "metadata": {},
   "outputs": [
    {
     "data": {
      "text/plain": [
       "10"
      ]
     },
     "execution_count": 61,
     "metadata": {},
     "output_type": "execute_result"
    }
   ],
   "source": [
    "np.linalg.matrix_rank(m4)"
   ]
  },
  {
   "cell_type": "code",
   "execution_count": 62,
   "metadata": {},
   "outputs": [],
   "source": [
    "gj = sp.Matrix(np.hstack([m4, np.eye(m4.shape[0])]))"
   ]
  },
  {
   "cell_type": "code",
   "execution_count": 63,
   "metadata": {},
   "outputs": [
    {
     "data": {
      "text/latex": [
       "$\\displaystyle \\left[\\begin{array}{cccccccccccccccccccc}1 & 0 & 0 & 0 & 0 & 0 & 0 & 0 & 0 & 0 & -0.0204247514196122 & -0.0895729520619509 & 0.254070752445762 & -0.185566602810081 & 0.127463141870611 & -0.0662129510978861 & -0.181184931818724 & -0.149137516607047 & 0.188329117710566 & 0.0607608935325358\\\\0 & 1 & 0 & 0 & 0 & 0 & 0 & 0 & 0 & 0 & 0.0164689583698639 & -0.0605965868290282 & -0.0189577558827595 & 0.148156367049697 & 0.0579470864152202 & -0.0245818997889659 & 0.0557586439207359 & 0.0603838671372178 & -0.135425410019303 & -0.0252609019604762\\\\0 & 0 & 1 & 0 & 0 & 0 & 0 & 0 & 0 & 0 & -0.00516433174580426 & 0.0153694617149428 & -0.0172451678727521 & -0.0408620366993968 & 0.053221922824828 & -0.114548982007758 & 0.16954293333972 & -0.0545397832221849 & -0.0334015678715012 & 0.0496506879271444\\\\0 & 0 & 0 & 1 & 0 & 0 & 0 & 0 & 0 & 0 & 0.0935549696081857 & -0.0886283235799308 & 0.119102739339971 & -0.0490139017288922 & 0.044088984508937 & 0.0212765454383067 & -0.149434935193714 & -0.0423584982482977 & -0.0311846763110271 & 0.106691802522397\\\\0 & 0 & 0 & 0 & 1 & 0 & 0 & 0 & 0 & 0 & -0.0340952776253842 & 0.10193055005875 & 0.0586555673106045 & -0.107074816187635 & -0.0571620167697965 & -0.0667348732388178 & 0.0635475863255636 & 0.010564683959987 & 0.102949123231057 & -0.0793180616509819\\\\0 & 0 & 0 & 0 & 0 & 1 & 0 & 0 & 0 & 0 & -0.0293431903880903 & -0.0388446063964941 & -0.0747637640661754 & 0.0202433600223199 & 0.025346172887491 & 0.0583077717585588 & -0.00154974952237222 & 0.141221049166469 & -0.0543666608675317 & 0.0271698304748378\\\\0 & 0 & 0 & 0 & 0 & 0 & 1 & 0 & 0 & 0 & 0.0891127712586027 & 0.0471557760260713 & -0.143009869995396 & 0.101832344849053 & -0.0559902406737593 & 0.0700293208429984 & 0.0510254973037836 & 0.0566314505873664 & -0.0199586977527755 & -0.117953545802348\\\\0 & 0 & 0 & 0 & 0 & 0 & 0 & 1 & 0 & 0 & -0.0438571716548761 & 0.0644714563961623 & -0.0989452413445623 & 0.142985463289989 & -0.0845036412134984 & -0.0301489167503295 & 0.0225899312730057 & -0.00732567262782651 & -0.00534880576083672 & 0.0047167483617571\\\\0 & 0 & 0 & 0 & 0 & 0 & 0 & 0 & 1 & 0 & -0.00223428133807627 & 0.168522771189196 & -0.201399785571839 & 0.0977606199486223 & -0.0764888223772268 & 0.139019678745215 & -0.00524896708153236 & 0.0320553473909346 & -0.0718545991881262 & -0.0487190445751102\\\\0 & 0 & 0 & 0 & 0 & 0 & 0 & 0 & 0 & 1 & -0.0529232457674133 & -0.158449958614109 & 0.276203668160027 & -0.154408348028839 & -0.00116364052756821 & 0.0427490309584567 & -0.0658898673350646 & -0.0795937493715591 & 0.174126512615101 & 0.0159111761685403\\end{array}\\right]$"
      ],
      "text/plain": [
       "Matrix([\n",
       "[1, 0, 0, 0, 0, 0, 0, 0, 0, 0,  -0.0204247514196122, -0.0895729520619509,   0.254070752445762,  -0.185566602810081,    0.127463141870611, -0.0662129510978861,   -0.181184931818724,   -0.149137516607047,    0.188329117710566,  0.0607608935325358],\n",
       "[0, 1, 0, 0, 0, 0, 0, 0, 0, 0,   0.0164689583698639, -0.0605965868290282, -0.0189577558827595,   0.148156367049697,   0.0579470864152202, -0.0245818997889659,   0.0557586439207359,   0.0603838671372178,   -0.135425410019303, -0.0252609019604762],\n",
       "[0, 0, 1, 0, 0, 0, 0, 0, 0, 0, -0.00516433174580426,  0.0153694617149428, -0.0172451678727521, -0.0408620366993968,    0.053221922824828,  -0.114548982007758,     0.16954293333972,  -0.0545397832221849,  -0.0334015678715012,  0.0496506879271444],\n",
       "[0, 0, 0, 1, 0, 0, 0, 0, 0, 0,   0.0935549696081857, -0.0886283235799308,   0.119102739339971, -0.0490139017288922,    0.044088984508937,  0.0212765454383067,   -0.149434935193714,  -0.0423584982482977,  -0.0311846763110271,   0.106691802522397],\n",
       "[0, 0, 0, 0, 1, 0, 0, 0, 0, 0,  -0.0340952776253842,    0.10193055005875,  0.0586555673106045,  -0.107074816187635,  -0.0571620167697965, -0.0667348732388178,   0.0635475863255636,    0.010564683959987,    0.102949123231057, -0.0793180616509819],\n",
       "[0, 0, 0, 0, 0, 1, 0, 0, 0, 0,  -0.0293431903880903, -0.0388446063964941, -0.0747637640661754,  0.0202433600223199,    0.025346172887491,  0.0583077717585588, -0.00154974952237222,    0.141221049166469,  -0.0543666608675317,  0.0271698304748378],\n",
       "[0, 0, 0, 0, 0, 0, 1, 0, 0, 0,   0.0891127712586027,  0.0471557760260713,  -0.143009869995396,   0.101832344849053,  -0.0559902406737593,  0.0700293208429984,   0.0510254973037836,   0.0566314505873664,  -0.0199586977527755,  -0.117953545802348],\n",
       "[0, 0, 0, 0, 0, 0, 0, 1, 0, 0,  -0.0438571716548761,  0.0644714563961623, -0.0989452413445623,   0.142985463289989,  -0.0845036412134984, -0.0301489167503295,   0.0225899312730057, -0.00732567262782651, -0.00534880576083672,  0.0047167483617571],\n",
       "[0, 0, 0, 0, 0, 0, 0, 0, 1, 0, -0.00223428133807627,   0.168522771189196,  -0.201399785571839,  0.0977606199486223,  -0.0764888223772268,   0.139019678745215, -0.00524896708153236,   0.0320553473909346,  -0.0718545991881262, -0.0487190445751102],\n",
       "[0, 0, 0, 0, 0, 0, 0, 0, 0, 1,  -0.0529232457674133,  -0.158449958614109,   0.276203668160027,  -0.154408348028839, -0.00116364052756821,  0.0427490309584567,  -0.0658898673350646,  -0.0795937493715591,    0.174126512615101,  0.0159111761685403]])"
      ]
     },
     "execution_count": 63,
     "metadata": {},
     "output_type": "execute_result"
    }
   ],
   "source": [
    "gj.rref()[0]"
   ]
  },
  {
   "cell_type": "code",
   "execution_count": 64,
   "metadata": {},
   "outputs": [
    {
     "data": {
      "text/plain": [
       "array([[-0.02042475, -0.08957295,  0.25407075, -0.1855666 ,  0.12746314,\n",
       "        -0.06621295, -0.18118493, -0.14913752,  0.18832912,  0.06076089],\n",
       "       [ 0.01646896, -0.06059659, -0.01895776,  0.14815637,  0.05794709,\n",
       "        -0.0245819 ,  0.05575864,  0.06038387, -0.13542541, -0.0252609 ],\n",
       "       [-0.00516433,  0.01536946, -0.01724517, -0.04086204,  0.05322192,\n",
       "        -0.11454898,  0.16954293, -0.05453978, -0.03340157,  0.04965069],\n",
       "       [ 0.09355497, -0.08862832,  0.11910274, -0.0490139 ,  0.04408898,\n",
       "         0.02127655, -0.14943494, -0.0423585 , -0.03118468,  0.1066918 ],\n",
       "       [-0.03409528,  0.10193055,  0.05865557, -0.10707482, -0.05716202,\n",
       "        -0.06673487,  0.06354759,  0.01056468,  0.10294912, -0.07931806],\n",
       "       [-0.02934319, -0.03884461, -0.07476376,  0.02024336,  0.02534617,\n",
       "         0.05830777, -0.00154975,  0.14122105, -0.05436666,  0.02716983],\n",
       "       [ 0.08911277,  0.04715578, -0.14300987,  0.10183234, -0.05599024,\n",
       "         0.07002932,  0.0510255 ,  0.05663145, -0.0199587 , -0.11795355],\n",
       "       [-0.04385717,  0.06447146, -0.09894524,  0.14298546, -0.08450364,\n",
       "        -0.03014892,  0.02258993, -0.00732567, -0.00534881,  0.00471675],\n",
       "       [-0.00223428,  0.16852277, -0.20139979,  0.09776062, -0.07648882,\n",
       "         0.13901968, -0.00524897,  0.03205535, -0.0718546 , -0.04871904],\n",
       "       [-0.05292325, -0.15844996,  0.27620367, -0.15440835, -0.00116364,\n",
       "         0.04274903, -0.06588987, -0.07959375,  0.17412651,  0.01591118]])"
      ]
     },
     "execution_count": 64,
     "metadata": {},
     "output_type": "execute_result"
    }
   ],
   "source": [
    "np.linalg.inv(m4)"
   ]
  },
  {
   "cell_type": "markdown",
   "metadata": {},
   "source": [
    "<a href=\"https://www.emathhelp.net/calculators/linear-algebra/reduced-row-echelon-form-rref-caclulator/\" style=\" background-color: black;\n",
    "  color: grey;\n",
    "  border: 2px dashed grey;\n",
    "  padding: 10px 20px;\n",
    "  text-align: center;\n",
    "  text-decoration: none;\n",
    "  display: inline-block;\">Step by step RREF(emathhelp)</a>"
   ]
  },
  {
   "cell_type": "markdown",
   "metadata": {},
   "source": [
    "## Determinant"
   ]
  },
  {
   "cell_type": "markdown",
   "metadata": {},
   "source": [
    "## Derivative and integration"
   ]
  },
  {
   "cell_type": "markdown",
   "metadata": {},
   "source": [
    "## Positive definite, negative definite , semi negative definite , semi positive definite"
   ]
  },
  {
   "cell_type": "markdown",
   "metadata": {},
   "source": [
    "<h2> A positive definite matrix: if $x^TAx>0$ for all non-zero real vectors x.\n",
    "\n",
    "A positive semidefinite matrix: if $x^TAx≥0$ for all non-zero real vectors x.\n",
    "\n",
    "A negative definite matrix: if $x^TAx<0$ for all non-zero real vectors x.\n",
    "\n",
    "A negative semidefinite matrix: if $x^TAx≤0$ for all non-zero real vectors x.\n",
    "\n",
    "An indefinite matrix: if there exists non-zero real vectors x,y with $x^TAx>0>y^TAy$.</h2>"
   ]
  },
  {
   "cell_type": "markdown",
   "metadata": {},
   "source": [
    "## A real non-symmetric matrix is positive definite if and only if $\\frac{A+A^T}{2}$ is positive definite.\n",
    "\n"
   ]
  },
  {
   "cell_type": "markdown",
   "metadata": {},
   "source": [
    "# Types of matrix multiplications"
   ]
  },
  {
   "cell_type": "markdown",
   "metadata": {},
   "source": [
    "> ## Hadamard multiplications\n",
    "$A \\circ B =  A \\odot B = C$ for $C =[c_{ij}] = [a_{ij}\\times b_{ij}]$"
   ]
  },
  {
   "cell_type": "markdown",
   "metadata": {},
   "source": [
    "<h1  style=\"color:red\"> BE AWARE OF NUMPY BROADCASTING <h1>"
   ]
  },
  {
   "cell_type": "markdown",
   "metadata": {},
   "source": [
    "> # Vector norms\n",
    "> ## $\\|A\\|_1= \\sum_{i=1}^n |a_{ij}|: \\text{   Manhatan Norm}$\n",
    "> ## $\\|A\\|_2= (\\sum_{i=1}^n |a_{ij}|^2)^\\frac{1}{2} : \\text{  Euclidean Norm}$\n",
    "> ## $ \\left\\|\\mathbf {x} \\right\\|_{\\infty }:=\\max _{i}\\left|x_{i}\\right| : \\infty \\text{  Norm}$\n",
    "> ## $ \\left\\|\\mathbf {x} \\right\\|_{p}:=\\left(\\sum _{i=1}^{n}\\left|x_{i}\\right|^{p}\\right)^\\frac{1}{p}:  \\text{Forbinus Norm}$\n"
   ]
  },
  {
   "cell_type": "markdown",
   "metadata": {},
   "source": [
    "> # Norms-induced by p-norm\n",
    "> ## $\\|A\\|_{1}=\\max _{1\\leq j\\leq n}\\sum _{i=1}^{m}|a_{ij}|$ :  the maximum absolute column sum of the matrix;\n",
    "> ## $\\|A\\|_{\\infty }=\\max _{1\\leq i\\leq m}\\sum _{j=1}^{n}|a_{ij}|$ : simply the maximum absolute row sum of the matrix\n",
    "> ## $\\|A\\|_{2}={\\sqrt {\\lambda _{\\max }\\left(A^{T}A\\right)}}=\\sigma _{\\max }(A).$"
   ]
  },
  {
   "cell_type": "markdown",
   "metadata": {},
   "source": [
    "> # Entry wise Norm\n",
    "> ## $\\displaystyle \\|A\\|_{p,p}=\\|\\mathrm {vec} (A)\\|_{p}=\\left(\\sum _{i=1}^{m}\\sum _{j=1}^{n}|a_{ij}|^{p}\\right)^{1/p}$"
   ]
  },
  {
   "cell_type": "markdown",
   "metadata": {},
   "source": [
    "## Linearization"
   ]
  },
  {
   "cell_type": "markdown",
   "metadata": {},
   "source": [
    "<img src=\"https://www.cs.utexas.edu/users/flame/laff/alaff-beta/images/Chapter04/FundamentalSpaces.png\">"
   ]
  },
  {
   "cell_type": "markdown",
   "metadata": {},
   "source": [
    "## Null space(Kernel) and left nullspace"
   ]
  },
  {
   "cell_type": "markdown",
   "metadata": {},
   "source": [
    "## ${\\displaystyle {\\begin{bmatrix}a_{11}&a_{12}&a_{13}\\\\a_{21}&a_{22}&a_{23}\\\\a_{31}&a_{32}&a_{33}\\end{bmatrix}}={\\begin{bmatrix}\\ell _{11}&0&0\\\\\\ell _{21}&\\ell _{22}&0\\\\\\ell _{31}&\\ell _{32}&\\ell _{33}\\end{bmatrix}}{\\begin{bmatrix}u_{11}&u_{12}&u_{13}\\\\0&u_{22}&u_{23}\\\\0&0&u_{33}\\end{bmatrix}}.}$"
   ]
  },
  {
   "cell_type": "markdown",
   "metadata": {},
   "source": [
    "# without permutation\n",
    "# $A = LU$"
   ]
  },
  {
   "cell_type": "markdown",
   "metadata": {},
   "source": [
    "# with permutation\n",
    "# $A = PLU$"
   ]
  },
  {
   "cell_type": "markdown",
   "metadata": {},
   "source": [
    "## Cholesky (if and only if your matrix is positive definitive)"
   ]
  },
  {
   "cell_type": "markdown",
   "metadata": {},
   "source": [
    "## QR"
   ]
  },
  {
   "cell_type": "markdown",
   "metadata": {},
   "source": [
    "## ${\\displaystyle {\\begin{aligned}\\mathbf {u} _{1}&=\\mathbf {a} _{1},&\\mathbf {e} _{1}&={\\frac {\\mathbf {u} _{1}}{\\|\\mathbf {u} _{1}\\|}}\\\\\\mathbf {u} _{2}&=\\mathbf {a} _{2}-\\operatorname {proj} _{\\mathbf {u} _{1}}\\mathbf {a} _{2},&\\mathbf {e} _{2}&={\\frac {\\mathbf {u} _{2}}{\\|\\mathbf {u} _{2}\\|}}\\\\\\mathbf {u} _{3}&=\\mathbf {a} _{3}-\\operatorname {proj} _{\\mathbf {u} _{1}}\\mathbf {a} _{3}-\\operatorname {proj} _{\\mathbf {u} _{2}}\\mathbf {a} _{3},&\\mathbf {e} _{3}&={\\frac {\\mathbf {u} _{3}}{\\|\\mathbf {u} _{3}\\|}}\\\\&\\;\\;\\vdots &&\\;\\;\\vdots \\\\\\mathbf {u} _{k}&=\\mathbf {a} _{k}-\\sum _{j=1}^{k-1}\\operatorname {proj} _{\\mathbf {u} _{j}}\\mathbf {a} _{k},&\\mathbf {e} _{k}&={\\frac {\\mathbf {u} _{k}}{\\|\\mathbf {u} _{k}\\|}}\\end{aligned}}}$"
   ]
  },
  {
   "cell_type": "markdown",
   "metadata": {},
   "source": [
    "# ${\\displaystyle Q={\\begin{bmatrix}\\mathbf {e} _{1}&\\cdots &\\mathbf {e} _{n}\\end{bmatrix}}}$"
   ]
  },
  {
   "cell_type": "markdown",
   "metadata": {},
   "source": [
    "## ${\\displaystyle R={\\begin{bmatrix}\\langle \\mathbf {e} _{1},\\mathbf {a} _{1}\\rangle &\\langle \\mathbf {e} _{1},\\mathbf {a} _{2}\\rangle &\\langle \\mathbf {e} _{1},\\mathbf {a} _{3}\\rangle &\\cdots \\\\0&\\langle \\mathbf {e} _{2},\\mathbf {a} _{2}\\rangle &\\langle \\mathbf {e} _{2},\\mathbf {a} _{3}\\rangle &\\cdots \\\\0&0&\\langle \\mathbf {e} _{3},\\mathbf {a} _{3}\\rangle &\\cdots \\\\\\vdots &\\vdots &\\vdots &\\ddots \\end{bmatrix}}.}$"
   ]
  },
  {
   "cell_type": "markdown",
   "metadata": {},
   "source": [
    "<img src='https://upload.wikimedia.org/wikipedia/commons/thumb/5/58/Eigenvalue_equation.svg/750px-Eigenvalue_equation.svg.png'>"
   ]
  },
  {
   "cell_type": "markdown",
   "metadata": {},
   "source": [
    "## multiplication of eigenvalues equals the determinant"
   ]
  },
  {
   "cell_type": "markdown",
   "metadata": {},
   "source": [
    "## $A = USV^T$"
   ]
  },
  {
   "cell_type": "markdown",
   "metadata": {},
   "source": [
    "## $\\Lambda$"
   ]
  },
  {
   "cell_type": "markdown",
   "metadata": {},
   "source": [
    "## Column space: Since A is rank k, the ﬁrst k left singular vectors,(the columns of U), provide an orthonormal basis for the column space of A.\n",
    "\n",
    "## Row space: Similarly, the ﬁrst k right singular vectors (the columns of V , or the rows of V Transpose), provide an orthonormal basis for the row space of A.\n",
    "\n",
    "## Null space: The last right singular vectors(the last columns of V , or the last rows of V Transpose), provide an orthonormal basis for the null space of A."
   ]
  },
  {
   "cell_type": "markdown",
   "metadata": {},
   "source": [
    "## Pseudo inverse"
   ]
  },
  {
   "cell_type": "markdown",
   "metadata": {},
   "source": [
    "## $\\displaystyle \\left[\\begin{matrix}0 & 1 & 2 & 3 & 4\\\\5 & 6 & 7 & 8 & 9\\\\10 & 11 & 12 & 13 & 14\\\\15 & 16 & 17 & 18 & 19\\\\20 & 21 & 22 & 23 & 24\\end{matrix}\\right]\\left[\\begin{matrix}x_1\\\\ x_2\\\\x_3\\\\x_4\\\\x_5\\end{matrix}\\right] = \\left[\\begin{matrix}1\\\\ 2\\\\3\\\\4\\\\5\\end{matrix}\\right]$"
   ]
  }
 ],
 "metadata": {
  "kernelspec": {
   "display_name": "Python 3",
   "language": "python",
   "name": "python3"
  },
  "language_info": {
   "codemirror_mode": {
    "name": "ipython",
    "version": 3
   },
   "file_extension": ".py",
   "mimetype": "text/x-python",
   "name": "python",
   "nbconvert_exporter": "python",
   "pygments_lexer": "ipython3",
   "version": "3.7.0"
  }
 },
 "nbformat": 4,
 "nbformat_minor": 2
}
