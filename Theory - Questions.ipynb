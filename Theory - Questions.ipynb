{
 "cells": [
  {
   "cell_type": "markdown",
   "metadata": {},
   "source": [
    "### Please inform me possible mistakes => Taherzadehesam@gmail.com"
   ]
  },
  {
   "cell_type": "code",
   "execution_count": 1,
   "metadata": {},
   "outputs": [],
   "source": [
    "# importing the modules \n",
    "import sympy as sp\n",
    "import numpy as np \n",
    "import matplotlib.pyplot as plt\n",
    "import matplotlib as mpl\n",
    "import scipy.stats\n",
    "from scipy.stats.distributions import chi2\n",
    "import pandas as pd\n"
   ]
  },
  {
   "cell_type": "code",
   "execution_count": null,
   "metadata": {},
   "outputs": [],
   "source": [
    "# functions \n",
    "def tau(n, alpha):\n",
    "    return -np.sqrt(n*scipy.stats.t.ppf(1 - (alpha/2),n-1)**2/(n-1+scipy.stats.t.ppf(1 -( alpha/2),n-1)**2)), np.sqrt((n*scipy.stats.t.ppf(alpha/2,n-1)**2)/(n-1+scipy.stats.t.ppf(alpha/2,n-1)**2))"
   ]
  },
  {
   "cell_type": "markdown",
   "metadata": {},
   "source": [
    "# Chapter 3"
   ]
  },
  {
   "cell_type": "markdown",
   "metadata": {},
   "source": [
    "### Question 3-4"
   ]
  },
  {
   "cell_type": "code",
   "execution_count": null,
   "metadata": {},
   "outputs": [],
   "source": [
    "A = np.matrix([1,1,1]).T\n",
    "l = (45 + 27/60 + np.matrix([20,24,23])/3600).T\n",
    "cl = np.matrix(np.diag([(6/3600)**2,(9/3600)**2,(3/3600)**2]))\n",
    "p = np.linalg.inv(cl)\n",
    "xcap = np.linalg.inv(A.T*p*A)*A.T*p*l\n",
    "print(f\"the xcap is \\n{xcap}\")\n"
   ]
  },
  {
   "cell_type": "code",
   "execution_count": null,
   "metadata": {},
   "outputs": [],
   "source": [
    "Cx = np.linalg.inv(A.T*p*A)\n",
    "print(f\"the variance is :\\n{np.sqrt(Cx)*3600}\")"
   ]
  },
  {
   "cell_type": "markdown",
   "metadata": {},
   "source": [
    "### Question 3-5"
   ]
  },
  {
   "cell_type": "code",
   "execution_count": null,
   "metadata": {},
   "outputs": [],
   "source": [
    "l = np.matrix([1000.19,1000.4,1000.5,1000.28]).T\n",
    "A = np.matrix([1,1,1,1]).T\n",
    "cl = np.matrix(np.diag([12,13,14,15]))**2 * 1e-3\n",
    "p = np.linalg.inv(cl)\n",
    "xcap = np.linalg.inv(A.T*p*A)*A.T*p*l"
   ]
  },
  {
   "cell_type": "code",
   "execution_count": null,
   "metadata": {},
   "outputs": [],
   "source": [
    "print(f\"the xcap is \\n{xcap}\")"
   ]
  },
  {
   "cell_type": "code",
   "execution_count": null,
   "metadata": {},
   "outputs": [],
   "source": [
    "standarddeviation = np.linalg.inv(A.T*p*A);np.sqrt(standarddeviation)"
   ]
  },
  {
   "cell_type": "code",
   "execution_count": null,
   "metadata": {},
   "outputs": [],
   "source": [
    "vcap = A*xcap - l\n",
    "print(f\"the vcap is \\n{vcap}\")"
   ]
  },
  {
   "cell_type": "code",
   "execution_count": null,
   "metadata": {},
   "outputs": [],
   "source": [
    "df = 3\n",
    "secondaryvariancefactor = vcap.T * p * vcap / df\n",
    "print(f\"the secondaryvariancefactor is \\n{secondaryvariancefactor}\")"
   ]
  },
  {
   "cell_type": "markdown",
   "metadata": {},
   "source": [
    "### Question 3-7"
   ]
  },
  {
   "cell_type": "code",
   "execution_count": null,
   "metadata": {},
   "outputs": [],
   "source": [
    "cl = np.matrix((np.sqrt(2)*0.1)**2*np.eye(8))\n",
    "p = np.linalg.inv(cl)\n",
    "l = np.matrix([25.42 + 98, 10.34, 98 + 35.20, -15.54, 21.32, 4.82, 98 + 31.02, -26.11 ]).T\n",
    "A = np.matrix([[1,0,0,0],[-1,1,0,0],[0,0,0,1],[0,1,0,0],[-1,0,1,0],[0,1,-1,0],[0,0,-1,1],[0,1,0,-1]])\n",
    "xcap = np.linalg.inv(A.T*p*A)*A.T*p*l\n",
    "print(f\"the xcap is \\n{xcap}\")\n",
    "\n",
    "print('-'*20)\n",
    "\n",
    "standarddeviation = np.linalg.inv(A.T*p*A)\n",
    "print(f\"The Cx is  is \\n{standarddeviation}\")\n",
    "\n",
    "print('-'*20)\n",
    "\n",
    "vcap = A*xcap - l\n",
    "print(f\"the vcap is \\n{vcap}\")\n",
    "\n",
    "print('-'*20)\n",
    "\n",
    "df = 8 - 4 \n",
    "secondaryvariancefactor = vcap.T * p * vcap / df\n",
    "print(f\"the secondaryvariancefactor is \\n{secondaryvariancefactor}\")"
   ]
  },
  {
   "cell_type": "markdown",
   "metadata": {},
   "source": [
    "### Question 3-8"
   ]
  },
  {
   "cell_type": "code",
   "execution_count": null,
   "metadata": {},
   "outputs": [],
   "source": [
    "A = np.matrix([1,0,1,0,-1,1,0,1,0,1]).reshape(-1,2)\n",
    "l = np.matrix([103.6, 101.6 + 2.06, 2.02, 108.05 - 2.37, -0.38 +  106.07]).T\n",
    "xcap = np.linalg.inv(A.T*A)*A.T*l\n",
    "print(f\"the xcaps without considering the weights are \\n{xcap}\")\n",
    "trcx = np.trace(np.linalg.inv(A.T*A))\n",
    "print(f\"the trace of Cx is {trcx}\")"
   ]
  },
  {
   "cell_type": "code",
   "execution_count": null,
   "metadata": {},
   "outputs": [],
   "source": [
    "p1 = np.matrix(np.diag([1/3,1/3,1/1,1/1.5,1/2]))**2\n",
    "xcap = np.linalg.inv(A.T*p1*A)*A.T*p1*l\n",
    "print(f\"the xcaps with considering the distance as weights are \\n{xcap}\")\n",
    "trcx = np.trace(np.linalg.inv(A.T*p1*A))\n",
    "print(f\"the trace of Cx is {trcx}\")"
   ]
  },
  {
   "cell_type": "code",
   "execution_count": null,
   "metadata": {},
   "outputs": [],
   "source": [
    "p2 = np.matrix(np.diag([105,112,34,52,67]))**2\n",
    "xcap = np.linalg.inv(A.T*p2*A)*A.T*p2*l\n",
    "print(f\"the xcaps with considering the stations as weights are \\n{xcap}\")\n",
    "trcx = np.trace(np.linalg.inv(A.T*p2*A))\n",
    "print(f\"the trace of Cx is {trcx}\")"
   ]
  },
  {
   "cell_type": "code",
   "execution_count": null,
   "metadata": {},
   "outputs": [],
   "source": [
    "p3 = np.matrix(np.diag([1/3,1/3,1,1/1.5,1/2])*1000)**2\n",
    "xcap = np.linalg.inv(A.T*p3*A)*A.T*p3*l\n",
    "print(f\"the xcaps with considering the distance as weights are \\n{xcap}\")\n",
    "trcx = np.trace(np.linalg.inv(A.T*p3*A))\n",
    "print(f\"the trace of Cx is {trcx}\")"
   ]
  },
  {
   "cell_type": "markdown",
   "metadata": {},
   "source": [
    "### As it can be seen the quantity of the station as the weight parameter gives out the best result"
   ]
  },
  {
   "cell_type": "markdown",
   "metadata": {},
   "source": [
    "### Question 3-10"
   ]
  },
  {
   "cell_type": "code",
   "execution_count": null,
   "metadata": {},
   "outputs": [],
   "source": [
    "t = np.arange(1,11)\n",
    "A = np.zeros((10,3))\n",
    "A[:,0] = 1\n",
    "A[:,1] = t\n",
    "A[:,2] = - 0.5 * t**2\n",
    "l = np.matrix(np.array([[109.4,187.5,267.5,331.9,386.1,428.4,452.2,498.1,512.3,513.0]])).T\n",
    "p = np.matrix(np.eye(10)/8)**2\n",
    "xcap = np.linalg.inv(A.T*p*A)*A.T*p*l\n",
    "print(f\"the xcaps are \\n{xcap}\")"
   ]
  },
  {
   "cell_type": "code",
   "execution_count": null,
   "metadata": {},
   "outputs": [],
   "source": [
    "t = np.linspace(0,10,1000)\n",
    "realeq = 10 + 100 * t - 0.5 *9.8 * t**2\n",
    "eqcoeffcap = float(xcap[0]) + float(xcap [1])*t - 0.5 * float(xcap[2])* t**2\n",
    "fig, ax =plt.subplots(1,2,figsize=(20,5),sharey =True )\n",
    "ax[0].plot(t,realeq)\n",
    "ax[0].set_title(\"the real equation\")\n",
    "ax[1].plot(t,eqcoeffcap)\n",
    "ax[1].set_title(\"the modeled equation through linear regression\")\n",
    "plt.show()"
   ]
  },
  {
   "cell_type": "code",
   "execution_count": null,
   "metadata": {},
   "outputs": [],
   "source": [
    "fig, ax =plt.subplots(figsize=(20,5))\n",
    "ax.plot(t,realeq,label=\"the real equation\")\n",
    "ax.plot(t,eqcoeffcap,label=\"the modeled equation through linear regression\")\n",
    "plt.legend()\n",
    "plt.show()"
   ]
  },
  {
   "cell_type": "markdown",
   "metadata": {},
   "source": [
    "### Question 3-11"
   ]
  },
  {
   "cell_type": "code",
   "execution_count": null,
   "metadata": {},
   "outputs": [],
   "source": [
    "p = np.matrix(np.diag([1/181,1/94,1/142,1/176,1/135,1/99,1/138,1/140]))*1e-2\n",
    "l = np.matrix([25.42 + 98, 10.34, 98 + 35.20, -15.54, 21.32, 4.82, 98 + 31.02, -26.11 ]).T\n",
    "A = np.matrix([[1,0,0,0],[-1,1,0,0],[0,0,0,1],[0,1,0,0],[-1,0,1,0],[0,1,-1,0],[0,0,-1,1],[0,1,0,-1]])\n",
    "xcap = np.linalg.inv(A.T*p*A)*A.T*p*l\n",
    "print(f\"the xcap is \\n{xcap}\")\n",
    "\n",
    "print('-'*20)\n",
    "\n",
    "standarddeviation = np.linalg.inv(A.T*p*A)\n",
    "print(f\"The Cx is  is \\n{standarddeviation}\")\n",
    "\n",
    "print('-'*20)\n",
    "\n",
    "vcap = A*xcap - l\n",
    "print(f\"the vcap is \\n{vcap}\")\n",
    "\n",
    "print('-'*20)\n",
    "\n",
    "df = 8 - 4 \n",
    "secondaryvariancefactor = vcap.T * p * vcap / df\n",
    "print(f\"the secondaryvariancefactor is \\n{secondaryvariancefactor}\")"
   ]
  },
  {
   "cell_type": "markdown",
   "metadata": {},
   "source": [
    "### Question 3-14"
   ]
  },
  {
   "cell_type": "code",
   "execution_count": null,
   "metadata": {},
   "outputs": [],
   "source": [
    "l = np.arange(-0.95,1.05,0.1)\n",
    "A = np.matrix([l**n for n in range(20)]).T\n",
    "l = np.matrix(l).T\n",
    "xcap = np.linalg.inv(A.T*A) * A.T * l"
   ]
  },
  {
   "cell_type": "code",
   "execution_count": null,
   "metadata": {},
   "outputs": [],
   "source": [
    "t = np.linspace(-0.95,0.95,200000)\n",
    "eq = [float(xcap[i])*t**(i) for i in range(20)]\n",
    "plt.plot(t,sum(eq),label=\"degree 20 polynominal\")\n",
    "plt.plot(t,t,label = \"x = y\")\n",
    "plt.legend()\n",
    "plt.show()"
   ]
  },
  {
   "cell_type": "markdown",
   "metadata": {},
   "source": [
    "### Question 3-18"
   ]
  },
  {
   "cell_type": "code",
   "execution_count": null,
   "metadata": {},
   "outputs": [],
   "source": [
    "x = np.matrix([0,1]).T\n",
    "l = np.matrix([451.211,344.368,1171.274,393.156,720.064,326.908]).T\n",
    "true = np.matrix([451.215,344.373,1171.285,393.158,720.072,326.914]).T\n",
    "A = np.zeros((6,2))\n",
    "for i in range(100):\n",
    "    A[:,0] = -1/x[1]\n",
    "    A[:,1] = (x[0]-np.array(true)/(x[1]**2)).flatten()\n",
    "    lcap = l - (true - x[0])/x[1]\n",
    "    deltacap = np.matmul(np.matmul(np.linalg.inv(np.matmul(A.T,A)),A.T),lcap)\n",
    "    if (np.abs(deltacap)<0.00001).all():\n",
    "        print(f\"after {i+1} iteration the x is :\\n{x}\")  \n",
    "        break \n",
    "    x = x + deltacap"
   ]
  },
  {
   "cell_type": "markdown",
   "metadata": {},
   "source": [
    "### Question 3-19"
   ]
  },
  {
   "cell_type": "code",
   "execution_count": null,
   "metadata": {},
   "outputs": [],
   "source": [
    "xp,yp = sp.symbols(\"x_p y_p\")\n",
    "f = sp.Matrix([sp.sqrt((300 - xp)**2 + (300 - yp)**2),\n",
    "               sp.sqrt((600 - xp)**2 + (250 - yp)**2),\n",
    "               sp.sqrt((800 - xp)**2 + (400 - yp)**2)]).T\n",
    "variables = sp.Matrix([xp,yp])\n",
    "A = f.jacobian(variables)\n",
    "p = sp.Matrix(sp.diag(1/0.05,1/0.05,1/0.05))\n",
    "x0 = sp.Matrix([600,500])\n",
    "l = sp.Matrix([360.50, 250.1, 223.5]).transpose()\n",
    "for i in range(100):\n",
    "    A = f.jacobian(variables)\n",
    "    A = A.subs(((xp,x0[0]),(yp,x0[1]))).evalf()\n",
    "    deltal = ((l - f.subs(((xp,x0[0]),(yp,x0[1]))).evalf()).evalf()).T\n",
    "    deltacap = (A.T*p*A).inv()*A.T*p*deltal\n",
    "    if (sp.matrix2numpy(deltacap) <np.matrix([0.0001])).all():\n",
    "        print(f\"after {i} iteration the answer is = \\n\")\n",
    "        print(sp.matrix2numpy(x0))\n",
    "        break\n",
    "    \n",
    "    x0 = x0 + deltacap"
   ]
  },
  {
   "cell_type": "code",
   "execution_count": null,
   "metadata": {},
   "outputs": [],
   "source": [
    "# initial symbols \n",
    "yp = sp.symbols(\"yp\")\n",
    "variables = sp.Matrix([yp])\n",
    "f = sp.Matrix([[-(sp.atan((19.32-2)/(yp-2)) - sp.pi)],\n",
    "              [sp.atan((19.32-2)/(yp-19.32))]])\n",
    "# initial observations \n",
    "l = sp.Matrix([[np.radians(120),np.radians(57+40/60)]]).transpose()\n",
    "y0 = sp.Matrix([29])\n",
    "for i in range(100):\n",
    "    A1 = (f.jacobian(variables).subs(yp,y0[0])).evalf()\n",
    "    w1 = (l - f.subs(yp,y0[0])).evalf()\n",
    "    deltacap = ((A1.T*A1).evalf().inv()* A1.T * w1).evalf()\n",
    "    \n",
    "    if (abs(sp.matrix2numpy(deltacap)) <np.matrix([0.001])).all() :\n",
    "        print(f\"after {i+1} iteration the answer is = \\n\")\n",
    "        print(sp.matrix2numpy(y0))\n",
    "        break\n",
    "    \n",
    "    y0 = (deltacap + y0).evalf()  "
   ]
  },
  {
   "cell_type": "code",
   "execution_count": null,
   "metadata": {},
   "outputs": [],
   "source": [
    "f.jacobian(variables)"
   ]
  },
  {
   "cell_type": "markdown",
   "metadata": {},
   "source": [
    "### Question 3-20"
   ]
  },
  {
   "cell_type": "code",
   "execution_count": 44,
   "metadata": {},
   "outputs": [
    {
     "name": "stdout",
     "output_type": "stream",
     "text": [
      "after 9 iteration the answer is = \n",
      "\n",
      "[[36.3012956871519]]\n"
     ]
    }
   ],
   "source": [
    "# initial symbols \n",
    "yp = sp.symbols(\"y_p\")\n",
    "variables = sp.Matrix([yp])\n",
    "f = sp.Matrix([[-(sp.atan((19.32-2)/(yp-2))) + sp.pi],\n",
    "              [-sp.atan((19.32-2)/(yp-19.32)) + sp.pi/2]])\n",
    "# initial observations \n",
    "l = sp.Matrix([[np.radians(120),np.radians(57+40/60)]]).transpose()\n",
    "deltacap = 0\n",
    "y0 = sp.Matrix([29.00])\n",
    "for i in range(15):\n",
    "    A1 = (sp.simplify(f.jacobian(variables)).subs(yp,y0[0])).evalf()\n",
    "    w1 = (l - f.subs(yp,y0[0])).evalf()\n",
    "    deltacap = ((A1.T*A1).evalf().inv()* A1.T * w1).evalf()\n",
    "    if (abs(sp.matrix2numpy(deltacap)) <np.matrix([0.0000001])).all() :\n",
    "        print(f\"after {i+1} iteration the answer is = \\n\")\n",
    "        print(sp.matrix2numpy(y0))\n",
    "        break\n",
    "    \n",
    "    y0 = (deltacap + y0).evalf()  "
   ]
  },
  {
   "cell_type": "markdown",
   "metadata": {},
   "source": [
    "### Question 3-21"
   ]
  },
  {
   "cell_type": "code",
   "execution_count": 45,
   "metadata": {},
   "outputs": [],
   "source": [
    "xb, yb, xc = sp.symbols(\"xb yb xc\")\n",
    "\n",
    "f = sp.Matrix([[sp.atan(yb/xb),\n",
    "                -(sp.atan(yb/xb)+sp.atan(yb / (xc - xb)))+sp.pi\n",
    "                , sp.atan(yb / (xc - xb)),\n",
    "                xc]]).transpose()\n",
    "\n",
    "cl = sp.Matrix(sp.diag(((5*sp.pi/180)**2), ((5*sp.pi/180)**2), ((5*sp.pi/180)**2), 0.05**2))\n",
    "\n",
    "p = cl.inv()\n",
    "l = sp.Matrix([[(59 + 59/60 + 58/3600)*sp.pi/180, \n",
    "                (59 + 59/60 + 51/3600)*sp.pi/180,\n",
    "                (59 + 59/60 + 54/3600)*sp.pi/180,\n",
    "                1000]]).transpose()\n",
    "var = sp.Matrix([xb,yb,xc])\n",
    "x = sp.Matrix([[500,500*np.tan(np.radians(60)),1000]]).transpose() "
   ]
  },
  {
   "cell_type": "code",
   "execution_count": 46,
   "metadata": {},
   "outputs": [
    {
     "name": "stdout",
     "output_type": "stream",
     "text": [
      "after 2 iteration the answer is = \n",
      "\n",
      "\n",
      "[[499.988803707628]\n",
      " [866.041564240476]\n",
      " [1000.00000000000]]\n"
     ]
    }
   ],
   "source": [
    "for i in range(100):\n",
    "    A1 = f.jacobian(var)\n",
    "    A1 = (A1.subs(((xb, x[0]), (yb, x[1]), (xc,x[2])))).evalf()\n",
    "    w1 = (l - f.subs(((xb, x[0]),(yb, x[1]),(xc,x[2])), dtype=float)).evalf()\n",
    "    deltacap = ((A1.T*p * A1).evalf().inv()* A1.T* p * w1).evalf()\n",
    "    if (sp.matrix2numpy(deltacap) <np.matrix([0.0001])).all():\n",
    "        print(f\"after {i+1} iteration the answer is = \\n\\n\")\n",
    "        print(sp.matrix2numpy(x))\n",
    "        break\n",
    "    x = x + deltacap"
   ]
  },
  {
   "cell_type": "markdown",
   "metadata": {},
   "source": [
    "### Question 3-23"
   ]
  },
  {
   "cell_type": "code",
   "execution_count": null,
   "metadata": {},
   "outputs": [],
   "source": [
    "angles = np.array(['185 22 14', '208 26 19', '205 13 51'])\n",
    "leno = len(angles)\n",
    "angles = [angles[i].split(\" \") for i in range(leno)]\n",
    "angles = np.array([float(angles[i][0])+float(angles[i][1])/60+float(angles[i][2])/3600 for i in range(leno)])\n",
    "\n",
    "bearing  = [172.89277778 + 68.255750]\n",
    "\n",
    "for i, j  in zip(range(leno),range(0,leno)):\n",
    "    if bearing[i] < 180: \n",
    "        bearing.append( bearing[i]+180+angles[j])\n",
    "    else :\n",
    "        bearing.append( bearing[i]-180+angles[j])\n",
    "bearing = np.array(bearing)\n",
    "bearing1 = pd.DataFrame(bearing, columns=[\"Bearing\"])\n",
    "bearing= np.radians(bearing)\n",
    "bearing1"
   ]
  },
  {
   "cell_type": "code",
   "execution_count": null,
   "metadata": {},
   "outputs": [],
   "source": [
    "xc, yc, xd, yd = sp.symbols(\"xc yc xd yd\") \n",
    "var = sp.Matrix([xc, yc, xd, yd])\n",
    "f = sp.Matrix([[sp.sqrt((8478.139-xc)**2 + (2483.826-yc)**2),\n",
    "                sp.sqrt((xd-xc)**2 + (yd-yc)**2),\n",
    "                sp.sqrt((xd-7709.336)**2 + (yd-2263.411)**2),\n",
    "                sp.pi + sp.atan((8478.139)/(2483.826)),\n",
    "                sp.pi +sp.atan((xc-8478.139)/(yc-2483.826)),\n",
    "                sp.pi + sp.atan((xd-xc)/(yd-yc)),\n",
    "                2*sp.pi + sp.atan((7709.336-xd)/(2263.411-yd))]]).transpose()\n",
    "l = sp.Matrix([[281.832,271.3,274.1,bearing[0],bearing[1],bearing[2],bearing[3]]]).transpose()\n",
    "cl = sp.Matrix(sp.diag((0.016)**2,(0.016)**2,(0.016)**2,(2/3600 * sp.pi/180)**2 ,(2*np.sqrt(2)/3600 * sp.pi/180)**2,(2*np.sqrt(3)/3600 * sp.pi/180)**2,(4/3600 * sp.pi/180)**2))\n",
    "p = cl.inv()\n",
    "x = sp.Matrix([[8231.289808403944 ,2347.8305852523913 ,-248.83441514632077 +8231.289808403944, -108.0977513123584+2347.8305852523913]]).transpose()\n",
    "alter = ((xc,x[0]),(yc,x[1]),(xd,x[2]),(yd,x[3]))"
   ]
  },
  {
   "cell_type": "code",
   "execution_count": null,
   "metadata": {},
   "outputs": [],
   "source": [
    "for i in range(100):\n",
    "    alter = ((xc,x[0]),(yc,x[1]),(xd,x[2]),(yd,x[3]))\n",
    "    A1 = f.jacobian(var)\n",
    "    A1 = (A1.subs(alter)).evalf()\n",
    "    w1 = (l -f.subs(alter, dtype=float)).evalf()\n",
    "\n",
    "    deltacap = ((A1.T*A1).evalf().inv()* A1.T * w1).evalf()\n",
    "    \n",
    "    if (abs((sp.matrix2numpy(deltacap))) <np.matrix([0.0001])).all():\n",
    "        print(f\"after {i+1} iteration the answer is = \\n\\n\")\n",
    "        print(sp.matrix2numpy(x))\n",
    "        break\n",
    "    x = x + deltacap"
   ]
  },
  {
   "cell_type": "markdown",
   "metadata": {},
   "source": [
    "# Chapter 4"
   ]
  },
  {
   "cell_type": "markdown",
   "metadata": {},
   "source": [
    "### Question 2-4"
   ]
  },
  {
   "cell_type": "code",
   "execution_count": 47,
   "metadata": {},
   "outputs": [],
   "source": [
    "df = 6 - 4 \n",
    "B = np.matrix([[-1, 0, 1],\n",
    "              [1, -1, 0]])\n",
    "l = np.matrix([50,50.2,49.8]).T\n",
    "w = B * l\n",
    "vcap = -B.T*np.linalg.inv(B*B.T)*w\n",
    "lcap = l + vcap\n",
    "Vcap = np.prod(lcap)"
   ]
  },
  {
   "cell_type": "code",
   "execution_count": 48,
   "metadata": {},
   "outputs": [
    {
     "name": "stdout",
     "output_type": "stream",
     "text": [
      "The estimation of Volume is 125000.0 mm^3\n"
     ]
    }
   ],
   "source": [
    "print(f\"The estimation of Volume is {Vcap} mm^3\")"
   ]
  },
  {
   "cell_type": "markdown",
   "metadata": {},
   "source": [
    "### Question 3-4"
   ]
  },
  {
   "cell_type": "code",
   "execution_count": 49,
   "metadata": {},
   "outputs": [],
   "source": [
    "df = 3 - 1 \n",
    "B = np.matrix([[1, 1, 1, 0, 0, 0],\n",
    "              [0, 1, 0, 1, 1, 1]])\n",
    "l = np.matrix([60 + 3/3600, 60 + 2/3600, 60 + 1/3600, 120 + 5/3600, 120 + 5/3600 , 60 + 1/3600]).T\n",
    "c = np.matrix([180, 360]).T\n",
    "w = B * l - c\n",
    "vcap = -B.T*np.linalg.inv(B*B.T)*w\n",
    "lcap = l + vcap"
   ]
  },
  {
   "cell_type": "code",
   "execution_count": 50,
   "metadata": {},
   "outputs": [
    {
     "data": {
      "text/plain": [
       "matrix([[ 60.00055556],\n",
       "        [ 59.99944444],\n",
       "        [ 60.        ],\n",
       "        [120.00055556],\n",
       "        [120.00055556],\n",
       "        [ 59.99944444]])"
      ]
     },
     "execution_count": 50,
     "metadata": {},
     "output_type": "execute_result"
    }
   ],
   "source": [
    "lcap"
   ]
  },
  {
   "cell_type": "markdown",
   "metadata": {},
   "source": [
    "### Question 4-4"
   ]
  },
  {
   "cell_type": "code",
   "execution_count": 54,
   "metadata": {},
   "outputs": [],
   "source": [
    "B = np.matrix([[0,0,0,-1,1,-1,1,-1,1,0],\n",
    "               [-1,1,-1,1,0,0,0,0,1,-1]])\n",
    "w = np.matrix([-4/3600, 2/3600]).T\n",
    "vcap = -B.T * np.linalg.inv(B * B.T) * w\n",
    "p = np.eye(10)* (1 / 3600)**2\n",
    "df = 2\n",
    "secondaryvariancefactor = vcap.T * vcap / df"
   ]
  },
  {
   "cell_type": "code",
   "execution_count": 55,
   "metadata": {},
   "outputs": [
    {
     "name": "stdout",
     "output_type": "stream",
     "text": [
      "the secondaryvariancefactor is [[1.28600823e-07]]\n"
     ]
    }
   ],
   "source": [
    "print(f\"the secondaryvariancefactor is {secondaryvariancefactor}\")"
   ]
  },
  {
   "cell_type": "markdown",
   "metadata": {},
   "source": [
    "### Question 4-5"
   ]
  },
  {
   "cell_type": "code",
   "execution_count": 57,
   "metadata": {},
   "outputs": [],
   "source": [
    "l = (59 + 59/60 + np.matrix([58, 51, 54])/3600).T\n",
    "B = np.matrix([[1,1,1]])\n",
    "c = 180\n",
    "w = B * l - c\n",
    "vcap =  B.T * np.linalg.inv(B * B.T) * w\n",
    "l += vcap"
   ]
  },
  {
   "cell_type": "code",
   "execution_count": 58,
   "metadata": {},
   "outputs": [
    {
     "data": {
      "text/plain": [
       "matrix([[1.04716038],\n",
       "        [1.04712645],\n",
       "        [1.04714099]])"
      ]
     },
     "execution_count": 58,
     "metadata": {},
     "output_type": "execute_result"
    }
   ],
   "source": [
    "l = np.radians(l);l"
   ]
  },
  {
   "cell_type": "markdown",
   "metadata": {},
   "source": [
    "### Question 4-6"
   ]
  },
  {
   "cell_type": "code",
   "execution_count": 59,
   "metadata": {},
   "outputs": [
    {
     "name": "stdout",
     "output_type": "stream",
     "text": [
      "Theta is [[20.]]\n"
     ]
    }
   ],
   "source": [
    "df = 5 - 4\n",
    "B = np.matrix([1, 1, -1])\n",
    "l = np.matrix([30 + 15 / 60 + 15 / 3600, 20,50 + 15 / 60 + 18/3600 ]).T\n",
    "w = B * l \n",
    "vcap = - B.T * np.linalg.inv(B * B.T) * w\n",
    "l = l + vcap\n",
    "theta = 70 + 1/3600 - l[1] - 30\n",
    "print(f\"Theta is {theta}\")"
   ]
  },
  {
   "cell_type": "code",
   "execution_count": 60,
   "metadata": {},
   "outputs": [
    {
     "name": "stdout",
     "output_type": "stream",
     "text": [
      "The variance for theta is [[2.66666667]] arcsec^2\n"
     ]
    }
   ],
   "source": [
    "cl = np.matrix(np.eye(3))\n",
    "clcap = cl - cl * B.T * np.linalg.inv(B*cl*B.T) * B * cl\n",
    "Dthetaonx = np.matrix([-1, -1, 1])\n",
    "sigma2theta = Dthetaonx * np.matrix(np.diag([clcap[1,1],1,1])) * Dthetaonx.T\n",
    "print(f\"The variance for theta is {sigma2theta} arcsec^2\") "
   ]
  },
  {
   "cell_type": "markdown",
   "metadata": {},
   "source": [
    "### Question 4-8"
   ]
  },
  {
   "cell_type": "code",
   "execution_count": null,
   "metadata": {},
   "outputs": [],
   "source": [
    "B = np.matrix([1, 1, 1])\n",
    "l = np.matrix([60 + 2/60 , 60 + 1/60, 60]).T\n",
    "w = B * l - 180\n",
    "vcap = - B.T * np.linalg.inv(B * B.T) * w\n",
    "l += vcap"
   ]
  },
  {
   "cell_type": "code",
   "execution_count": null,
   "metadata": {},
   "outputs": [],
   "source": [
    "print(f\"The ABC is {l[0]}\")"
   ]
  },
  {
   "cell_type": "markdown",
   "metadata": {},
   "source": [
    "### Question 4-9"
   ]
  },
  {
   "cell_type": "markdown",
   "metadata": {},
   "source": [
    "##### A"
   ]
  },
  {
   "cell_type": "code",
   "execution_count": null,
   "metadata": {},
   "outputs": [],
   "source": [
    "df = 5 -3 \n",
    "B = np.matrix([[1, 0, 0, -1],[0, -1, 1 ,0]])\n",
    "l = np.matrix([2, 3 , 3.1, 1.94]).T\n",
    "w = B * l \n",
    "vcap = - B.T * np.linalg.inv(B * B.T) * w\n",
    "lcap = l + vcap\n",
    "print(f\"lcap is \\n{lcap}\")\n",
    "\n",
    "print(\"-\" * 25)\n",
    "\n",
    "X1 = lcap[1]*lcap[0]\n",
    "X2 = lcap[3]* 1\n",
    "\n",
    "print(f\"X1cap is {X1} \\nX2cap is {X2}\")"
   ]
  },
  {
   "cell_type": "code",
   "execution_count": null,
   "metadata": {},
   "outputs": [],
   "source": [
    "sigma2X1 = 0.5**2 * lcap[1]**2 + 0.5**2 * lcap[0]**2 \n",
    "sigma2X2 = 0.5**2 + 0.5**2 *lcap[2]**2"
   ]
  },
  {
   "cell_type": "markdown",
   "metadata": {},
   "source": [
    "### Question 4-10"
   ]
  },
  {
   "cell_type": "code",
   "execution_count": null,
   "metadata": {},
   "outputs": [],
   "source": [
    "A = np.matrix([[1,0,0,0,0,0,0,1,1,0,0,0,180],\n",
    "               [0,1,1,0,0,0,0,0,0,-1,1,0,180],\n",
    "               [0,0,0,1,1,1,0,0,0,0,0,0,180],\n",
    "               [-1,-1,0,0,0,0,0,0,0,0,0,1,0],\n",
    "               [0,1,1,1,1,0,0,0,0,1,0,0,360]])"
   ]
  },
  {
   "cell_type": "code",
   "execution_count": null,
   "metadata": {},
   "outputs": [],
   "source": [
    "np.linalg.matrix_rank(A)"
   ]
  },
  {
   "cell_type": "markdown",
   "metadata": {},
   "source": [
    "### Question 11 is the same as Question 3"
   ]
  },
  {
   "cell_type": "markdown",
   "metadata": {},
   "source": [
    "### Question 4-12"
   ]
  },
  {
   "cell_type": "code",
   "execution_count": 87,
   "metadata": {},
   "outputs": [
    {
     "name": "stdout",
     "output_type": "stream",
     "text": [
      "after 3 iteration the lcap is \n",
      " [[1.05957468]\n",
      " [0.96095372]\n",
      " [0.96969752]\n",
      " [0.98296672]]\n"
     ]
    }
   ],
   "source": [
    "l =np.matrix([[1.1,0.9,1,np.radians(60)]],dtype = float).T\n",
    "counter = 1\n",
    "for i in range(100):\n",
    "    B = np.matrix([-2*l[0,0]+2*l[2,0]*np.cos(l[3,0]),\n",
    "                    2*l[1,0],\n",
    "                   -2*l[2,0]+2*l[0,0]*np.cos(l[3,0]),\n",
    "                   -2*l[0,0]*l[2,0]*np.sin(l[3,0])])\n",
    "    w = l[1]**2-l[0]**2-l[2]**2+2*l[0]*l[2]*np.cos(l[3])\n",
    "    vcap = -B.T * np.linalg.inv(B*B.T) * w\n",
    "    \n",
    "    if np.all(np.abs(vcap)<0.001):\n",
    "        print(f\"after {i+1} iteration the lcap is \\n {l}\")\n",
    "        break \n",
    "        \n",
    "    l = l + vcap\n",
    "\n"
   ]
  },
  {
   "cell_type": "code",
   "execution_count": 88,
   "metadata": {},
   "outputs": [
    {
     "name": "stdout",
     "output_type": "stream",
     "text": [
      "The secondary variance factor is :\n",
      "1.3246441420844424e-12\n"
     ]
    }
   ],
   "source": [
    "print(\"The secondary variance factor is :\")\n",
    "print(float(vcap.T*vcap))"
   ]
  },
  {
   "cell_type": "code",
   "execution_count": 89,
   "metadata": {},
   "outputs": [
    {
     "data": {
      "text/plain": [
       "matrix([[ 0.86862997,  0.24192218, -0.09619545, -0.21524879],\n",
       "        [ 0.24192218,  0.55449246,  0.17714704,  0.39638763],\n",
       "        [-0.09619545,  0.17714704,  0.92956107, -0.15761551],\n",
       "        [-0.21524879,  0.39638763, -0.15761551,  0.6473165 ]])"
      ]
     },
     "execution_count": 89,
     "metadata": {},
     "output_type": "execute_result"
    }
   ],
   "source": [
    "cl = np.matrix(np.eye(4))\n",
    "clcap = cl - cl * B.T*np.linalg.inv(B*cl*B.T)*B*cl\n",
    "clcap"
   ]
  },
  {
   "cell_type": "markdown",
   "metadata": {},
   "source": [
    "# Chapter 5"
   ]
  },
  {
   "cell_type": "markdown",
   "metadata": {},
   "source": [
    "### Question 5-1"
   ]
  },
  {
   "cell_type": "code",
   "execution_count": null,
   "metadata": {},
   "outputs": [],
   "source": [
    "# Ax = b => x =A^+b\n",
    "# usual way\n",
    "A = np.matrix([1,1,1]).T\n",
    "l = (45 + 27/60 + np.matrix([20,24,23])/3600).T\n",
    "cl = np.matrix(np.diag([(6/3600)**2,(9/3600)**2,(3/3600)**2]))\n",
    "p = np.linalg.inv(cl)\n",
    "xcap = np.linalg.inv(A.T*p*A)*A.T*p*l\n",
    "print(f\"the xcap is \\n{xcap}\")"
   ]
  },
  {
   "cell_type": "code",
   "execution_count": null,
   "metadata": {},
   "outputs": [],
   "source": [
    "Aplus = np.linalg.pinv(A)\n",
    "xcap = Aplus * l\n",
    "xcap"
   ]
  },
  {
   "cell_type": "markdown",
   "metadata": {},
   "source": [
    "### Question 5-2"
   ]
  },
  {
   "cell_type": "code",
   "execution_count": null,
   "metadata": {},
   "outputs": [],
   "source": [
    "L = np.linalg.cholesky(p)\n",
    "Ap = L.T * A\n",
    "lp = L.T * l\n",
    "np.linalg.pinv(Ap)*lp"
   ]
  },
  {
   "cell_type": "markdown",
   "metadata": {},
   "source": [
    "#### The next two questions are the same as two before "
   ]
  },
  {
   "cell_type": "markdown",
   "metadata": {},
   "source": [
    "# Chapter 6"
   ]
  },
  {
   "cell_type": "markdown",
   "metadata": {},
   "source": [
    "### Question 6-1"
   ]
  },
  {
   "cell_type": "code",
   "execution_count": 105,
   "metadata": {},
   "outputs": [],
   "source": [
    "a,b = 0.95,1.85\n",
    "x = np.matrix([a,b]).T\n",
    "cl =np.matrix(np.diag([0.01,0.01,0.04,0.04,0.01,0.01,0.04,0.04,0.01,0.01,0.04,0.04]))\n",
    "p = np.linalg.inv(cl)\n",
    "l = np.matrix([0,1,-2.1,1.1,1,0,1,2,1,1,-0.9,2.8]).T\n",
    "deltacap = 0\n",
    "w = 0\n"
   ]
  },
  {
   "cell_type": "code",
   "execution_count": 106,
   "metadata": {},
   "outputs": [
    {
     "name": "stdout",
     "output_type": "stream",
     "text": [
      "a and b after 2 iter are = \n",
      "(1.0, 1.95)\n"
     ]
    }
   ],
   "source": [
    "for i in range(10) :\n",
    "    A = -np.matrix([[0,-1],\n",
    "                    [1,0],\n",
    "                    [1,0],\n",
    "                    [0,1],\n",
    "                    [1,-1],\n",
    "                    [1,1]])\n",
    "    B = np.matrix([[-a, b, 1, 0, 0, 0, 0, 0, 0, 0, 0, 0],\n",
    "                   [-b, -a, 0, 1, 0, 0, 0, 0, 0, 0, 0, 0],\n",
    "                   [0, 0, 0, 0, -a, b, 1, 0, 0, 0, 0, 0],\n",
    "                   [0, 0, 0, 0, -b, -a, 0, 1, 0, 0, 0, 0],\n",
    "                   [0, 0, 0, 0, 0, 0, 0, 0, -a, b, 1, 0],\n",
    "                   [0, 0, 0, 0, 0, 0, 0, 0, -b, -a, 0, 1]])\n",
    "    w = B * l\n",
    "    Bin = B*cl*B.T\n",
    "    Ain = A.T*np.linalg.inv(Bin)*A\n",
    "    deltacap = -np.linalg.inv(Ain)*A.T*np.linalg.inv(Bin)*w\n",
    "    vcap = -cl*B.T*np.linalg.inv(Bin)*(A*deltacap+w)\n",
    "    \n",
    "    if all(abs(deltacap) < 0.0000000000001) and all(abs(vcap) < 0.00000000001):\n",
    "        print(f\"a and b after {i} iter are = \\n{a , b}\")\n",
    "        break\n",
    "    a = a + float(deltacap[0])\n",
    "    b = b + float(deltacap[1])\n",
    "    l = l + vcap\n",
    "    "
   ]
  },
  {
   "cell_type": "markdown",
   "metadata": {},
   "source": [
    "### Question 6-2"
   ]
  },
  {
   "cell_type": "code",
   "execution_count": 137,
   "metadata": {},
   "outputs": [
    {
     "name": "stdout",
     "output_type": "stream",
     "text": [
      "answer after 8 iter is = \n",
      "[[ 0.23013566]\n",
      " [ 0.23492066]\n",
      " [-1.05022686]]\n"
     ]
    }
   ],
   "source": [
    "a,b,c = 1,1,-1\n",
    "l = np.matrix([1.1,-1,0.9,-2,2,1,2,-2,1,-1.1,1,0.9]).T\n",
    "B = np.matrix(np.zeros((4,12)))\n",
    "w = np.matrix(np.zeros((4,1)))\n",
    "x = np.matrix([a,b,c]).T\n",
    "f = 0\n",
    "\n",
    "for i in range(15):\n",
    "    A = l.reshape(4,3)\n",
    "    for i,s in zip(range(4),range(0,12,3)):\n",
    "        B[i,s] =  x[0]\n",
    "        B[i,s+1]= x[1]\n",
    "        B[i,s+2]= x[2]\n",
    "        w[i,0] = B[i,:] * l + 1\n",
    "    \n",
    "    deltacap = -np.linalg.inv(A.T*np.linalg.inv(B*B.T)*A)*A.T*np.linalg.inv(B*B.T)*w\n",
    "    vcap = -B.T*np.linalg.inv(B*B.T)*(A*deltacap+w)\n",
    "    f += 1 \n",
    "    if all(abs(deltacap) < 1e-45) and all(abs(vcap) < 1e-45):\n",
    "        print(f\"answer after {f} iter is = \\n{x}\")\n",
    "        break\n",
    "\n",
    "    x = x + deltacap\n",
    "    l = l + vcap"
   ]
  },
  {
   "cell_type": "markdown",
   "metadata": {},
   "source": [
    "### Question 6-3"
   ]
  },
  {
   "cell_type": "code",
   "execution_count": 5,
   "metadata": {},
   "outputs": [
    {
     "name": "stdout",
     "output_type": "stream",
     "text": [
      "answer after 3 iter\n",
      "x is = [[4.20376442]]\n"
     ]
    }
   ],
   "source": [
    "l = np.matrix([1,2,2,3,3,3.5]).T\n",
    "x = np.matrix([4])\n",
    "B = np.matrix(np.zeros((3,6)))\n",
    "w = np.matrix(np.zeros((3,1)))\n",
    "f = 0\n",
    "for i in range(100):\n",
    "    A = np.matrix([-l[0,0],-l[2,0],-l[4,0]]).T\n",
    "    for j,s in zip(range(3),range(0,6,2)):\n",
    "        B[j,s] = - x[0]\n",
    "        B[j,s+1] = 2 * l[s+1]\n",
    "        w[j,0] = l[s+1]**2-x[0]*l[s]\n",
    "        \n",
    "    deltacap = -np.linalg.inv(A.T*np.linalg.inv(B*B.T)*A)*A.T*np.linalg.inv(B*B.T)*w\n",
    "    vcap = -B.T*np.linalg.inv(B*B.T)*(A*deltacap+w)\n",
    "\n",
    "    f += 1 \n",
    "    if all(abs(deltacap<0.001)) and all(abs(vcap<0.001)):\n",
    "        print(f\"answer after {f} iter\")\n",
    "        print(f\"x is = {x}\")\n",
    "        break\n",
    "        \n",
    "    x = x + deltacap\n",
    "    l = l + vcap"
   ]
  },
  {
   "cell_type": "markdown",
   "metadata": {},
   "source": [
    "### Question 6-5"
   ]
  },
  {
   "cell_type": "code",
   "execution_count": 6,
   "metadata": {},
   "outputs": [
    {
     "name": "stdout",
     "output_type": "stream",
     "text": [
      "after 2 iteration the answer is = \n",
      "\n",
      "\n",
      "[[1161.75769354787]\n",
      " [6350.87611426636]\n",
      " [2147.55536965324]\n",
      " [-0.0110541113979752]\n",
      " [-0.00145130108511578]\n",
      " [1.55754377809177]]\n",
      "with deltacap = \n",
      "\n",
      "\n",
      "[[0.131695885265028]\n",
      " [0.199743613078961]\n",
      " [0.0218989140613014]\n",
      " [3.06585355348819e-5]\n",
      " [6.98198869014335e-5]\n",
      " [-1.29847278459486e-5]]\n"
     ]
    }
   ],
   "source": [
    "w,phi,k = sp.symbols(\"w phi kappa\")\n",
    "mw = sp.Matrix([[1,0,0],[0,sp.cos(w),sp.sin(w)],[0,-sp.sin(w),sp.cos(w)]])\n",
    "mphi = sp.Matrix([[sp.cos(phi),0,-sp.sin(phi)],[0,1,0],[sp.sin(phi),0,sp.cos(phi)]])\n",
    "mk = sp.Matrix([[sp.cos(k),sp.sin(k),0],[-sp.sin(k),sp.cos(k),0],[0,0,1]])\n",
    "\n",
    "m = mw * mphi * mk\n",
    "\n",
    "l = sp.Matrix([[1327.038,6533.705,611.579,\n",
    "              2071.364,6434.718,635.397,\n",
    "              474.825,6397.219,617.924,\n",
    "              1231.048,5468.429,646.526,\n",
    "              2111.601,5434.699,650.334,\n",
    "              261.971,5457.467,632.278,\n",
    "              17.818,-14.218,\n",
    "              9.211,-87.813,\n",
    "              3.461,69.421,\n",
    "              -88.324,-6.420,\n",
    "              -90.178,-94.091,\n",
    "              -90.520,90.251]]).transpose()\n",
    "x = np.matrix([1163,6350,2184,np.radians(0.55),np.radians(0.09),np.radians(89.24)]).T\n",
    "m0 = np.matrix(sp.matrix2numpy(m.subs(((w,float(x[3])),(phi,float(x[4])),(k,float(x[5]))))),dtype=np.float64)\n",
    "\n",
    "A = np.zeros((12,6))\n",
    "B = np.zeros((12,30))\n",
    "xo,yo,zo = sp.symbols(\"xo yo zo\")\n",
    "x1,x2,x3,x4,x5,x6,y1,y2,y3,y4,y5,y6 = sp.symbols(\"x1 x2 x3 x4 x5 x6 y1 y2 y3 y4 y5 y6\")\n",
    "X1,X2,X3,X4,X5,X6,Y1,Y2,Y3,Y4,Y5,Y6,Z1,Z2,Z3,Z4,Z5,Z6 = sp.symbols(\"X1 X2 X3 X4 X5 X6 Y1 Y2 Y3 Y4 Y5 Y6 Z1 Z2 Z3 Z4 Z5 Z6\")\n",
    "\n",
    "XS = [X1,X2,X3,X4,X5,X6]\n",
    "YS = [Y1,Y2,Y3,Y4,Y5,Y6]\n",
    "ZS = [Z1,Z2,Z3,Z4,Z5,Z6]\n",
    "\n",
    "xs = [x1,x2,x3,x4,x5,x6]\n",
    "ys = [y1,y2,y3,y4,y5,y6]\n",
    "\n",
    "f = [[xs[count]+150*(m[0,0]*(XS[count]-xo)+m[0,1]*(YS[count]-yo)+m[0,2]*(Z1-zo))/(m[2,0]*(XS[count]-xo)+m[2,1]*(YS[count]-yo)+m[2,2]*(ZS[count]-zo)),\n",
    "     ys[count]+150*(m[1,0]*(XS[count]-xo)+m[1,1]*(YS[count]-yo)+m[1,2]*(Z1-zo))/((m[2,0]*(XS[count]-xo)+m[2,1]*(YS[count]-yo)+m[2,2]*(ZS[count]-zo)))] for count in range(6)]\n",
    "\n",
    "flatten = lambda t: [item for sublist in t for item in sublist]\n",
    "f = flatten(f)\n",
    "f = sp.Matrix(f)\n",
    "var = sp.Matrix([xo,yo,zo,w,phi,k])\n",
    "obser = sp.Matrix([X1,X2,X3,X4,X5,X6,Y1,Y2,Y3,Y4,Y5,Y6,Z1,Z2,Z3,Z4,Z5,Z6,x1,x2,x3,x4,x5,x6,y1,y2,y3,y4,y5,y6])\n",
    "\n",
    "A = f.jacobian(var)\n",
    "B = f.jacobian(obser)\n",
    "\n",
    "x0 = sp.Matrix([1163,6350,2184,np.radians(0.55),np.radians(0.09),np.radians(89.24)])\n",
    "count = 1\n",
    "\n",
    "for i in range(100):\n",
    "    A0 = f.jacobian(var)\n",
    "    B0 = f.jacobian(obser)\n",
    "    X = l[:17:3]\n",
    "    Y = l[1:18:3]\n",
    "    Z = l[2:19:3]\n",
    "    x = l[18::2]\n",
    "    y = l[19::2]\n",
    "    lene = len(X)\n",
    "    Xalt = tuple([(XS[i],X[i]) for i in range(lene)])\n",
    "    Yalt = tuple([(YS[i],Y[i]) for i in range(lene)])\n",
    "    Zalt = tuple([(ZS[i],Z[i]) for i in range(lene)])\n",
    "    xalt = tuple([(xs[i],x[i]) for i in range(lene)])\n",
    "    yalt = tuple([(ys[i],y[i]) for i in range(lene)])\n",
    "    variables = ((xo,x0[0]),(yo,x0[1]),(zo,x0[2]),(w,x0[3]),(phi,x0[4]),(k,x0[5]))\n",
    "    alternations = Xalt + Yalt + Zalt + xalt + yalt + variables\n",
    "    w0= f.subs(alternations).evalf()\n",
    "    A0 = A0.subs(alternations).evalf()\n",
    "    B0 = B0.subs(alternations).evalf()\n",
    "    deltacap =-((((A0.transpose()*(B0*B0.transpose()).inv())*A0).inv()).evalf()*A0.transpose()*((B0*B0.transpose())).evalf().inv()*w0).evalf()\n",
    "    vcap =-(B0.T*(B0*B0.transpose()).evalf().inv()*(A0*deltacap+w0)).evalf()\n",
    "    if (abs(sp.matrix2numpy(deltacap)) <np.matrix([0.2])).all():\n",
    "        print(f\"after {i} iteration the answer is = \\n\\n\")\n",
    "        print(sp.matrix2numpy(x0))\n",
    "        print(f\"with deltacap = \\n\\n\")\n",
    "        print(sp.matrix2numpy(deltacap))\n",
    "        break\n",
    "\n",
    "\n",
    "    x0 = x0 + deltacap\n",
    "    l = l + vcap"
   ]
  },
  {
   "cell_type": "markdown",
   "metadata": {},
   "source": [
    "### Couldnt achieve more percise answers ( angles are in radians)"
   ]
  },
  {
   "cell_type": "markdown",
   "metadata": {},
   "source": [
    "### Question 6-6"
   ]
  },
  {
   "cell_type": "code",
   "execution_count": 7,
   "metadata": {},
   "outputs": [
    {
     "name": "stdout",
     "output_type": "stream",
     "text": [
      "after 2 iteration the answer is = \n",
      "\n",
      "\n",
      "[[6996.75871936101]\n",
      " [6983.17400938683]\n",
      " [49714.3534887728]\n",
      " [41967.1307847590]]\n",
      "with deltacap = \n",
      "\n",
      "\n",
      "[[1.40727928858205e-12]\n",
      " [-5.58657068190945e-13]\n",
      " [3.08351072609426e-12]\n",
      " [-1.08124312213680e-11]]\n"
     ]
    }
   ],
   "source": [
    "a1,a2,a3,b1,b2,b3,l4,l5,xa,xb,ya,yb = sp.symbols(\"a_1 a_2 a_3 b_1 b_2 b_3 l_4 l_5 x_a x_b y_a y_b\")\n",
    "p = 100\n",
    "f = sp.Matrix([[p * xb - b1 * yb,\n",
    "                p * xa - a1 * ya,\n",
    "                p * (l4 - xb) - b2* yb,\n",
    "                p * (l4 - xa) - a2* ya,\n",
    "                p * (l4 + l5 - xb) - b3* yb,\n",
    "                p * (l4 + l5 - xa) - a3 * ya]]).transpose()\n",
    "\n",
    "variables = sp.Matrix([xa,xb,ya,yb])\n",
    "obser = sp.Matrix([a1,a2,a3,b1,b2,b3,l4,l5])\n",
    "x0 = sp.Matrix([[6980.19801980198, 7004.21940928270,49504.9504950495, 42194.0928270042]]).transpose()\n",
    "\n",
    "l = sp.Matrix([[14.1,6.1,22.1,16.6,7.1,26.3,10000,8000]]).transpose()\n",
    "cl = sp.Matrix(np.diag([0.1,0.1,0.1,0.1,0.1,0.1,5e-05,5e-05])**2)\n",
    "p = cl.inv()\n",
    "\n",
    "A = f.jacobian(variables)\n",
    "B = f.jacobian(obser)\n",
    "\n",
    "for i in range(100):\n",
    "    altsvars = tuple([(variables[i],x0[i]) for i in range(4)])\n",
    "    altobser = tuple([(obser[i],l[i]) for i in range(8)])\n",
    "    alts = altsvars + altobser\n",
    "    A0 = A.subs(alts)\n",
    "    B0 = B.subs(alts)\n",
    "    w0 = f.subs(alts)\n",
    "    \n",
    "    deltacap = -((((A0.transpose() * (B0 * cl * B0.transpose()).inv()) * A0).inv()).evalf() * A0.transpose() * ((B0 * cl * B0.transpose())).evalf().inv() * w0).evalf()\n",
    "    vcap = -(cl * B0.T * (B0 * cl * B0.transpose()).evalf().inv() * (A0*deltacap+w0)).evalf()\n",
    "    \n",
    "    if (abs(sp.matrix2numpy(deltacap)) <np.matrix([0.001])).all() and (abs(sp.matrix2numpy(vcap)) <np.matrix([0.001])).all():\n",
    "        print(f\"after {i} iteration the answer is = \\n\\n\")\n",
    "        print(sp.matrix2numpy(x0))\n",
    "        print(f\"with deltacap = \\n\\n\")\n",
    "        print(sp.matrix2numpy(deltacap))\n",
    "        break\n",
    "    \n",
    "    x0 = x0 + deltacap\n",
    "    l = l + vcap\n",
    "    "
   ]
  },
  {
   "cell_type": "code",
   "execution_count": 8,
   "metadata": {},
   "outputs": [
    {
     "ename": "TypeError",
     "evalue": "cannot add <class 'sympy.matrices.dense.MutableDenseMatrix'> and <class 'sympy.core.mul.Mul'>",
     "output_type": "error",
     "traceback": [
      "\u001b[1;31m---------------------------------------------------------------------------\u001b[0m",
      "\u001b[1;31mTypeError\u001b[0m                                 Traceback (most recent call last)",
      "\u001b[1;32m<ipython-input-8-7cfa4f983e5a>\u001b[0m in \u001b[0;36m<module>\u001b[1;34m()\u001b[0m\n\u001b[0;32m      1\u001b[0m \u001b[1;31m# initial values\u001b[0m\u001b[1;33m\u001b[0m\u001b[1;33m\u001b[0m\u001b[0m\n\u001b[1;32m----> 2\u001b[1;33m \u001b[0msp\u001b[0m\u001b[1;33m.\u001b[0m\u001b[0msolve\u001b[0m\u001b[1;33m(\u001b[0m\u001b[1;33m(\u001b[0m\u001b[1;36m100\u001b[0m \u001b[1;33m*\u001b[0m \u001b[0mxb\u001b[0m \u001b[1;33m-\u001b[0m \u001b[1;36m16.6\u001b[0m \u001b[1;33m*\u001b[0m \u001b[0myb\u001b[0m\u001b[1;33m,\u001b[0m\u001b[1;36m100\u001b[0m \u001b[1;33m*\u001b[0m \u001b[0mxa\u001b[0m \u001b[1;33m-\u001b[0m \u001b[1;36m14.1\u001b[0m \u001b[1;33m*\u001b[0m \u001b[0mya\u001b[0m\u001b[1;33m,\u001b[0m\u001b[1;36m100\u001b[0m \u001b[1;33m*\u001b[0m \u001b[1;33m(\u001b[0m\u001b[1;36m10000\u001b[0m \u001b[1;33m-\u001b[0m \u001b[0mxb\u001b[0m\u001b[1;33m)\u001b[0m \u001b[1;33m-\u001b[0m \u001b[1;36m7.1\u001b[0m\u001b[1;33m*\u001b[0m \u001b[0myb\u001b[0m\u001b[1;33m,\u001b[0m\u001b[0mp\u001b[0m \u001b[1;33m*\u001b[0m \u001b[1;33m(\u001b[0m\u001b[1;36m10000\u001b[0m \u001b[1;33m-\u001b[0m \u001b[0mxa\u001b[0m\u001b[1;33m)\u001b[0m \u001b[1;33m-\u001b[0m \u001b[1;36m6.1\u001b[0m\u001b[1;33m*\u001b[0m \u001b[0mya\u001b[0m\u001b[1;33m)\u001b[0m\u001b[1;33m,\u001b[0m\u001b[1;33m(\u001b[0m\u001b[0mxa\u001b[0m\u001b[1;33m,\u001b[0m\u001b[0mxb\u001b[0m\u001b[1;33m,\u001b[0m\u001b[0mya\u001b[0m\u001b[1;33m,\u001b[0m\u001b[0myb\u001b[0m\u001b[1;33m)\u001b[0m\u001b[1;33m)\u001b[0m\u001b[1;33m\u001b[0m\u001b[0m\n\u001b[0m",
      "\u001b[1;32mD:\\Anaconda\\lib\\site-packages\\sympy\\core\\decorators.py\u001b[0m in \u001b[0;36mbinary_op_wrapper\u001b[1;34m(self, other)\u001b[0m\n\u001b[0;32m    134\u001b[0m                     \u001b[1;32mif\u001b[0m \u001b[0mf\u001b[0m \u001b[1;32mis\u001b[0m \u001b[1;32mnot\u001b[0m \u001b[1;32mNone\u001b[0m\u001b[1;33m:\u001b[0m\u001b[1;33m\u001b[0m\u001b[0m\n\u001b[0;32m    135\u001b[0m                         \u001b[1;32mreturn\u001b[0m \u001b[0mf\u001b[0m\u001b[1;33m(\u001b[0m\u001b[0mself\u001b[0m\u001b[1;33m)\u001b[0m\u001b[1;33m\u001b[0m\u001b[0m\n\u001b[1;32m--> 136\u001b[1;33m             \u001b[1;32mreturn\u001b[0m \u001b[0mfunc\u001b[0m\u001b[1;33m(\u001b[0m\u001b[0mself\u001b[0m\u001b[1;33m,\u001b[0m \u001b[0mother\u001b[0m\u001b[1;33m)\u001b[0m\u001b[1;33m\u001b[0m\u001b[0m\n\u001b[0m\u001b[0;32m    137\u001b[0m         \u001b[1;32mreturn\u001b[0m \u001b[0mbinary_op_wrapper\u001b[0m\u001b[1;33m\u001b[0m\u001b[0m\n\u001b[0;32m    138\u001b[0m     \u001b[1;32mreturn\u001b[0m \u001b[0mpriority_decorator\u001b[0m\u001b[1;33m\u001b[0m\u001b[0m\n",
      "\u001b[1;32mD:\\Anaconda\\lib\\site-packages\\sympy\\matrices\\common.py\u001b[0m in \u001b[0;36m__sub__\u001b[1;34m(self, a)\u001b[0m\n\u001b[0;32m   2996\u001b[0m     \u001b[1;33m@\u001b[0m\u001b[0mcall_highest_priority\u001b[0m\u001b[1;33m(\u001b[0m\u001b[1;34m'__rsub__'\u001b[0m\u001b[1;33m)\u001b[0m\u001b[1;33m\u001b[0m\u001b[0m\n\u001b[0;32m   2997\u001b[0m     \u001b[1;32mdef\u001b[0m \u001b[0m__sub__\u001b[0m\u001b[1;33m(\u001b[0m\u001b[0mself\u001b[0m\u001b[1;33m,\u001b[0m \u001b[0ma\u001b[0m\u001b[1;33m)\u001b[0m\u001b[1;33m:\u001b[0m\u001b[1;33m\u001b[0m\u001b[0m\n\u001b[1;32m-> 2998\u001b[1;33m         \u001b[1;32mreturn\u001b[0m \u001b[0mself\u001b[0m \u001b[1;33m+\u001b[0m \u001b[1;33m(\u001b[0m\u001b[1;33m-\u001b[0m\u001b[0ma\u001b[0m\u001b[1;33m)\u001b[0m\u001b[1;33m\u001b[0m\u001b[0m\n\u001b[0m\u001b[0;32m   2999\u001b[0m \u001b[1;33m\u001b[0m\u001b[0m\n\u001b[0;32m   3000\u001b[0m class MatrixCommon(MatrixArithmetic, MatrixOperations, MatrixProperties,\n",
      "\u001b[1;32mD:\\Anaconda\\lib\\site-packages\\sympy\\core\\decorators.py\u001b[0m in \u001b[0;36mbinary_op_wrapper\u001b[1;34m(self, other)\u001b[0m\n\u001b[0;32m    134\u001b[0m                     \u001b[1;32mif\u001b[0m \u001b[0mf\u001b[0m \u001b[1;32mis\u001b[0m \u001b[1;32mnot\u001b[0m \u001b[1;32mNone\u001b[0m\u001b[1;33m:\u001b[0m\u001b[1;33m\u001b[0m\u001b[0m\n\u001b[0;32m    135\u001b[0m                         \u001b[1;32mreturn\u001b[0m \u001b[0mf\u001b[0m\u001b[1;33m(\u001b[0m\u001b[0mself\u001b[0m\u001b[1;33m)\u001b[0m\u001b[1;33m\u001b[0m\u001b[0m\n\u001b[1;32m--> 136\u001b[1;33m             \u001b[1;32mreturn\u001b[0m \u001b[0mfunc\u001b[0m\u001b[1;33m(\u001b[0m\u001b[0mself\u001b[0m\u001b[1;33m,\u001b[0m \u001b[0mother\u001b[0m\u001b[1;33m)\u001b[0m\u001b[1;33m\u001b[0m\u001b[0m\n\u001b[0m\u001b[0;32m    137\u001b[0m         \u001b[1;32mreturn\u001b[0m \u001b[0mbinary_op_wrapper\u001b[0m\u001b[1;33m\u001b[0m\u001b[0m\n\u001b[0;32m    138\u001b[0m     \u001b[1;32mreturn\u001b[0m \u001b[0mpriority_decorator\u001b[0m\u001b[1;33m\u001b[0m\u001b[0m\n",
      "\u001b[1;32mD:\\Anaconda\\lib\\site-packages\\sympy\\matrices\\common.py\u001b[0m in \u001b[0;36m__add__\u001b[1;34m(self, other)\u001b[0m\n\u001b[0;32m   2715\u001b[0m             \u001b[1;32mreturn\u001b[0m \u001b[0mMatrixArithmetic\u001b[0m\u001b[1;33m.\u001b[0m\u001b[0m_eval_add\u001b[0m\u001b[1;33m(\u001b[0m\u001b[0mself\u001b[0m\u001b[1;33m,\u001b[0m \u001b[0mother\u001b[0m\u001b[1;33m)\u001b[0m\u001b[1;33m\u001b[0m\u001b[0m\n\u001b[0;32m   2716\u001b[0m \u001b[1;33m\u001b[0m\u001b[0m\n\u001b[1;32m-> 2717\u001b[1;33m         \u001b[1;32mraise\u001b[0m \u001b[0mTypeError\u001b[0m\u001b[1;33m(\u001b[0m\u001b[1;34m'cannot add %s and %s'\u001b[0m \u001b[1;33m%\u001b[0m \u001b[1;33m(\u001b[0m\u001b[0mtype\u001b[0m\u001b[1;33m(\u001b[0m\u001b[0mself\u001b[0m\u001b[1;33m)\u001b[0m\u001b[1;33m,\u001b[0m \u001b[0mtype\u001b[0m\u001b[1;33m(\u001b[0m\u001b[0mother\u001b[0m\u001b[1;33m)\u001b[0m\u001b[1;33m)\u001b[0m\u001b[1;33m)\u001b[0m\u001b[1;33m\u001b[0m\u001b[0m\n\u001b[0m\u001b[0;32m   2718\u001b[0m \u001b[1;33m\u001b[0m\u001b[0m\n\u001b[0;32m   2719\u001b[0m     \u001b[1;33m@\u001b[0m\u001b[0mcall_highest_priority\u001b[0m\u001b[1;33m(\u001b[0m\u001b[1;34m'__rtruediv__'\u001b[0m\u001b[1;33m)\u001b[0m\u001b[1;33m\u001b[0m\u001b[0m\n",
      "\u001b[1;31mTypeError\u001b[0m: cannot add <class 'sympy.matrices.dense.MutableDenseMatrix'> and <class 'sympy.core.mul.Mul'>"
     ]
    }
   ],
   "source": [
    "# initial values \n",
    "sp.solve((100 * xb - 16.6 * yb,100 * xa - 14.1 * ya,100 * (10000 - xb) - 7.1* yb,p * (10000 - xa) - 6.1* ya),(xa,xb,ya,yb))"
   ]
  },
  {
   "cell_type": "markdown",
   "metadata": {},
   "source": [
    "### Question 6-7"
   ]
  },
  {
   "cell_type": "code",
   "execution_count": null,
   "metadata": {},
   "outputs": [],
   "source": [
    "x, y, r = sp.symbols(\"x y r\")\n",
    "l11, l12, l21, l22, l31, l32, l41, l42 = sp.symbols(\"l11 l12 l21 l22 l31 l32 l41 l42\")\n",
    "var = sp.Matrix([x, y, r])\n",
    "obser = sp.Matrix([l11, l12, l21, l22, l31, l32, l41, l42])\n",
    "f = sp.Matrix([[r - sp.sqrt((l11 - x) ** 2 + (l12 - y) ** 2),\n",
    "                r - sp.sqrt((l21 - x) ** 2 + (l22 - y) ** 2),\n",
    "                r - sp.sqrt((l31 - x) ** 2 + (l32 - y) ** 2),\n",
    "                r - sp.sqrt((l41 - x) ** 2 + (l42 - y) ** 2)]]).transpose()\n",
    "l = sp.Matrix([[4, 4, 1, 4, 4, 2, 3, 1]]).transpose()\n",
    "x0 = sp.Matrix([2.5,3,np.sqrt(5)])\n",
    "for i in range(100):\n",
    "    alter = tuple([(obser[i], l[i]) for i in range(8)]) + ((x, x0[0]), (y, x0[1]), (r, x0[2]))\n",
    "    A = f.jacobian(var).subs(alter).evalf()\n",
    "    B = f.jacobian(obser).subs(alter).evalf()\n",
    "    w = f.subs(alter)\n",
    "    deltacap = -(((((A.transpose() * (\n",
    "                B * B.transpose()).inv()).evalf() * A).evalf()).inv()).evalf() * A.transpose()* (\n",
    "                (B * B.transpose())).evalf().inv() * w).evalf()\n",
    "    vcap = (-B.T * (B * B.transpose()).evalf().inv() * (A * deltacap + w)).evalf()\n",
    "    if (abs(sp.matrix2numpy(deltacap)) < np.matrix([0.01])).all():\n",
    "        print(f\"after {i+1} iteration the answer is = \\n\\n\")\n",
    "        print(pd.DataFrame(sp.matrix2numpy(x0)))\n",
    "        break\n",
    "    x0 = (x0 + deltacap).evalf()\n",
    "    l = l + vcap"
   ]
  },
  {
   "cell_type": "code",
   "execution_count": null,
   "metadata": {},
   "outputs": [],
   "source": [
    "#initial values for r x and y\n",
    "sp.solve((r ** 2 - (4 - x) ** 2 + (4 - y) ** 2,r ** 2 - (1 - x) ** 2 + (4 - y) ** 2,\n",
    "         r ** 2 - (4 - x) ** 2 + (2 - y) ** 2),(r,x,y))\n"
   ]
  },
  {
   "cell_type": "markdown",
   "metadata": {},
   "source": [
    "# Chapter 7"
   ]
  },
  {
   "cell_type": "markdown",
   "metadata": {},
   "source": [
    "### Question 7-1 with constraint"
   ]
  },
  {
   "cell_type": "code",
   "execution_count": null,
   "metadata": {},
   "outputs": [],
   "source": [
    "l = np.matrix([10.1,5.1,4]).T\n",
    "x = np.matrix([10.1,4,2]).T \n",
    "w1 = np.matrix(np.zeros((3,1)))\n",
    "f = 0\n",
    "for i in range(10):\n",
    "    A1 = np.matrix([[1, 0, 0],\n",
    "                  [0, x[1]/np.sqrt(x[1]**2+(x[2]-5)**2),(x[2]-5)/np.sqrt(x[1]**2+(x[2]-5)**2)],\n",
    "                  [0, x[1]/np.sqrt(x[1]**2+(x[2]-2)**2),(x[2]-2)/np.sqrt(x[1]**2+(x[2]-2)**2)]],dtype=float)\n",
    "    w1[0,0] = x[0]\n",
    "    w1[1,0] = np.sqrt(x[1]**2+(x[2]-5)**2)\n",
    "    w1[2,0] = np.sqrt(x[1]**2+(x[2]-2)**2)\n",
    "    w1 = w1 - l\n",
    "    x = np.array([list(map(float,x))]).T\n",
    "    A2 = np.matrix([x[2],-5,x[0]],dtype=float)\n",
    "    w2 = np.matrix([x[0]*x[2]-5*x[1]])\n",
    "    deltacap1 = -np.linalg.inv(A1.T*A1)*A1.T*w1\n",
    "    deltacap = deltacap1 - (np.linalg.inv(A1.T*A1)*A2.T*np.linalg.inv(A2*np.linalg.inv(A1.T*A1)*A2.T)*(w2+A2*deltacap1))\n",
    "    vcap = A1 * deltacap + w1\n",
    "    \n",
    "\n",
    "    if (abs(deltacap)<0.00001).all() and (abs(vcap)<0.00001).all():\n",
    "        print(f\"answer after {i+1} iter\")\n",
    "        print(f\"x is = \\n{x}\") , \n",
    "        break\n",
    "        \n",
    "    x = x + deltacap\n",
    "    l = l + vcap"
   ]
  },
  {
   "cell_type": "markdown",
   "metadata": {},
   "source": [
    "### Question 7-2 (Mentioned to do it through Non-linear parametric model)"
   ]
  },
  {
   "cell_type": "code",
   "execution_count": null,
   "metadata": {},
   "outputs": [],
   "source": [
    "# initial symbols \n",
    "yp = sp.symbols(\"yp\")\n",
    "variables = sp.Matrix([yp])\n",
    "# constraint ===> xc = xp \n",
    "f = sp.Matrix([[-(sp.atan((19.32-2)/(yp-2)) - sp.pi)],\n",
    "              [sp.atan((19.32-2)/(yp-19.32))]])\n",
    "# initial observations \n",
    "l = sp.Matrix([[np.radians(120),np.radians(57+40/60)]]).transpose()\n",
    "y0 = sp.Matrix([29])\n",
    "#Three given coordinates => coordination system has no undefined parameter hence no rank defect"
   ]
  },
  {
   "cell_type": "code",
   "execution_count": null,
   "metadata": {},
   "outputs": [],
   "source": [
    "count= 0\n",
    "for i in range(100):\n",
    "    A1 = (f.jacobian(variables).subs(yp,y0[0])).evalf()\n",
    "    w1 = (l - f.subs(yp,y0[0])).evalf()\n",
    "    deltacap = ((A1.T*A1).evalf().inv()* A1.T * w1).evalf()\n",
    "    \n",
    "    if (abs(sp.matrix2numpy(deltacap)) <np.matrix([0.001])).all() :\n",
    "        print(f\"after {i+1} iteration the answer is = \\n\")\n",
    "        print(sp.matrix2numpy(y0))\n",
    "        break\n",
    "    \n",
    "    y0 = (deltacap + y0).evalf()  "
   ]
  },
  {
   "cell_type": "markdown",
   "metadata": {},
   "source": [
    "### Question 7-4 "
   ]
  },
  {
   "cell_type": "code",
   "execution_count": null,
   "metadata": {},
   "outputs": [],
   "source": [
    "l = np.matrix([7.07,7.08,10,10.02,np.radians(30)]).T\n",
    "# one variable is reduced because of constraint\n",
    "x = np.matrix([5,5,8]).T\n",
    "w1 = np.matrix(np.zeros((5,1)))\n",
    "cl = np.matrix(np.diag([0.01**2,0.01**2,0.01**2,0.01**2,(np.radians(0.01))**2]))\n",
    "p = np.linalg.inv(cl)\n",
    "for i in range(100):    \n",
    "    A1 = np.matrix([[x[0]/np.sqrt(x[0]**2+(x[1]-10)**2),(x[1]-10)/np.sqrt(x[0]**2+(x[1]-10)**2),0],\n",
    "                    [x[0]/np.sqrt(x[0]**2+(x[1])**2),(x[1])/np.sqrt(x[0]**2+(x[1])**2),0],\n",
    "                    [0,(x[1]-10)/np.sqrt(x[2]**2+(x[1]-10)**2),x[2]/np.sqrt(x[2]**2+(x[1]-10)**2)],\n",
    "                    [0,x[1]/np.sqrt(x[2]**2+(x[1])**2),x[2]/np.sqrt(x[2]**2+(x[1])**2)],\n",
    "                    [0,x[2]/(x[2]**2+x[1]**2),-x[1]/(x[2]**2+x[1]**2)]],dtype = np.float64)\n",
    "    w1[0,0] = np.sqrt(x[0]**2+(x[1]-10)**2)\n",
    "    w1[1,0] = np.sqrt(x[0]**2+(x[1])**2)\n",
    "    w1[2,0] = np.sqrt(x[2]**2+(x[1]-10)**2)\n",
    "    w1[3,0] = np.sqrt(x[2]**2+x[1]**2)\n",
    "    w1[4,0] = np.arctan(x[1]/x[2])\n",
    "    w1 = l - w1\n",
    "    deltacap = np.linalg.inv(A1.T * p * A1) * A1.T * p * w1\n",
    "    \n",
    "    \n",
    "    if all(abs(deltacap)<0.001):\n",
    "        print(f\"answer after {i+1} iter\")\n",
    "        print(f\"x is = \\n{x}\"), \n",
    "        break\n",
    "        \n",
    "    x = x + deltacap\n"
   ]
  },
  {
   "cell_type": "markdown",
   "metadata": {},
   "source": [
    "# Chapter 8"
   ]
  },
  {
   "cell_type": "markdown",
   "metadata": {},
   "source": [
    "### Question 8-1"
   ]
  },
  {
   "cell_type": "code",
   "execution_count": null,
   "metadata": {},
   "outputs": [],
   "source": [
    "# observations \n",
    "l = np.matrix([7.07,7.08,10,10.02,np.radians(30)]).T\n",
    "cl = np.matrix(np.diag([0.01**2,0.01**2,0.01**2,0.01**2,(np.radians(0.01))**2]))\n",
    "p = np.linalg.inv(cl)\n",
    "\n",
    "# weighted parameters \n",
    "lx = np.matrix([5,5,8.7]).T\n",
    "Clx = np.matrix(np.diag([0.2**2,0.2**2,0.2**2]))\n",
    "px = np.linalg.inv(Clx)\n",
    "H = np.matrix(np.diag([1,1,1]))\n",
    "\n",
    "# initial values\n",
    "x = np.matrix([5,5,8]).T\n",
    "w1 = np.matrix(np.zeros((5,1)))\n",
    "\n",
    "for j in range(1000):\n",
    "    A1 = np.matrix([[x[0]/np.sqrt(x[0]**2+(x[1]-10)**2),(x[1]-10)/np.sqrt(x[0]**2+(x[1]-10)**2),0],\n",
    "                    [x[0]/np.sqrt(x[0]**2+(x[1])**2),(x[1])/np.sqrt(x[0]**2+(x[1])**2),0],\n",
    "                    [0,(x[1]-10)/np.sqrt(x[2]**2+(x[1]-10)**2),x[2]/np.sqrt(x[2]**2+(x[1]-10)**2)],\n",
    "                    [0,x[1]/np.sqrt(x[2]**2+(x[1])**2),x[2]/np.sqrt(x[2]**2+(x[1])**2)],\n",
    "                    [0,x[2]/(x[2]**2+x[1]**2),-x[1]/(x[2]**2+x[1]**2)]],dtype = np.float64)\n",
    "    B1 = -np.matrix(np.eye(5))\n",
    "    w1[0,0] = np.sqrt(x[0]**2+(x[1]-10)**2)\n",
    "    w1[1,0] = np.sqrt(x[0]**2+(x[1])**2)\n",
    "    w1[2,0] = np.sqrt(x[2]**2+(x[1]-10)**2)\n",
    "    w1[3,0] = np.sqrt(x[2]**2+x[1]**2)\n",
    "    w1[4,0] = np.arctan(x[1]/x[2])\n",
    "    w1 = w1 - l\n",
    "    w2 = +H * lx  - x\n",
    "    deltacap = -np.linalg.inv(A1.T*np.linalg.inv(B1*cl*B1.T)*A1 + H.T * px * H ) * (A1.T * np.linalg.inv(B1 * p * B1.T) * w1 - H.T * px * w2)\n",
    "    vcap1 = -cl * B1.T * np.linalg.inv(B1*cl*B1.T) * (A1*deltacap + w1)\n",
    "    vcap2 = H *deltacap - w2 \n",
    "    \n",
    "    if all(abs(deltacap)<0.001) and all(abs(vcap1)<0.001) and all(abs(vcap2)<0.001) :\n",
    "        print(f\"answer after {j+1} iter\")\n",
    "        print(f\"x is = \\n{x} \"), \n",
    "        break\n",
    "        \n",
    "    x = x + deltacap\n",
    "    l = l + vcap1\n",
    "    lx = lx + vcap2\n",
    "    \n",
    "    "
   ]
  },
  {
   "cell_type": "markdown",
   "metadata": {},
   "source": [
    "### Question 8-2"
   ]
  },
  {
   "cell_type": "code",
   "execution_count": null,
   "metadata": {},
   "outputs": [],
   "source": [
    "xa, ya, xb, yb, xp, yp = sp.symbols(\"xa ya xb yb xp yp\")\n",
    "f1 = sp.atan((xp - xb) / (yb - ya)) - sp.atan(((xp - xa) / yp - ya))\n",
    "f3 = sp.atan((xa - xp) / (ya - yp)) - sp.atan((xb - xp) / (yb - yp))\n",
    "f2 = sp.atan((xp - xb) / (yp - yb)) - sp.atan((xa - xb) / (ya - yb))\n",
    "f4 = sp.sqrt((xa - xb) ** 2 + (ya - yb) ** 2)\n",
    "f = sp.Matrix([f1, f2, f3, f4])\n",
    "var = sp.Matrix([xa, ya, xb, yb, xp, yp])\n",
    "\n",
    "# observations\n",
    "l = sp.Matrix([[(60 + 1 / 3600) * sp.pi / 180, (45 + 20 / 3600) * sp.pi / 180, (sp.pi / 180) * (75 + 6 / 3600), 448.330]],dtype=float).evalf().transpose()\n",
    "cl = sp.diag(((sp.pi / 180) * (10 / 3600)) ** 2, (10 * sp.pi / 180 * 3600) ** 2, (10 * sp.pi / 180 * 3600) ** 2,0.002 ** 2, dtype=float).evalf()\n",
    "B1 = -sp.eye(4)\n",
    "p = cl.inv()\n",
    "\n",
    "# weighted parameters\n",
    "H = sp.eye(6)\n",
    "lx = sp.Matrix([[1000, 1000, 1458.253, 879.462, 1101.177, 648.181]], dtype=float).transpose()\n",
    "clx = sp.diag(3.132 * 10 ** -5, 1.642 * 10 ** -5, 1.212 * 10 ** -4, 1.139 * 10 ** -4, 3.132 * 10 ** -1,2.040 * 10 ** -1, dtype=float)\n",
    "x = lx \n",
    "px = clx.inv()\n",
    "for i in range(100):\n",
    "    A1 = f.jacobian(var)\n",
    "    A1 = A1.subs(((xa, lx[0]), (ya, lx[1]), (xb, lx[2]), (yb, lx[3]), (xp, lx[4]), (yp, lx[5]))).evalf()\n",
    "    w1 = -l +sp.Matrix([f1, f2, f3, f4]).subs(((xa, lx[0]), (ya, lx[1]), (xb, lx[2]), (yb, lx[3]), (xp, lx[4]), (yp, lx[5])), dtype=float).evalf()\n",
    "    w2 = (H * lx - x).evalf()\n",
    "\n",
    "    deltacap = ((A1.transpose() * p * A1 + H.transpose() * clx * H).inv()) .evalf()* (-A1.transpose() * p * w1 + H.transpose() * px * w2).evalf()  # error is in here (A1.T*cwi*A1+H.T*px*H)\n",
    "    vcap1 = (A1 * deltacap + w1).evalf()\n",
    "    vcap2 = (H * deltacap - w2).evalf()\n",
    "    if (sp.matrix2numpy(deltacap) <np.matrix([0.01])).all():\n",
    "        print(f\"after {i} iteration the answer is = \\n\\n\")\n",
    "        print(pd.DataFrame(sp.matrix2numpy(x)))\n",
    "        break\n",
    "    x = x + deltacap\n",
    "    lx = lx + vcap2\n",
    "    l = l +vcap1\n"
   ]
  },
  {
   "cell_type": "markdown",
   "metadata": {},
   "source": [
    "### Question 8-3"
   ]
  },
  {
   "cell_type": "code",
   "execution_count": null,
   "metadata": {},
   "outputs": [],
   "source": [
    "l = np.matrix([10.1,5.1,4]).T\n",
    "x = np.matrix([10.1,4,2]).T + 0.05\n",
    "B1 = -np.matrix(np.eye((3)))\n",
    "w1 = np.matrix(np.zeros((3,1)))\n",
    "f = 0\n",
    "lx = np.matrix([10,4,2]).T\n",
    "cl = np.matrix(np.eye(3))\n",
    "p = np.linalg.inv(cl)\n",
    "clx = 100*np.matrix(np.eye(3))\n",
    "px = np.linalg.inv(clx)\n",
    "H = np.matrix(np.eye(3))\n",
    "for _ in range(100):\n",
    "    A1 = np.matrix([[1, 0, 0],\n",
    "                  [0, x[1]/np.sqrt(x[1]**2+(x[2]-5)**2), (x[2]-5)/np.sqrt(x[1]**2+(x[2]-5)**2)],\n",
    "                  [0, x[1]/np.sqrt(x[1]**2+(x[2]-2)**2),(x[2]-2)/np.sqrt(x[1]**2+(x[2]-2)**2)]],dtype=float)\n",
    "    w1[0,0] = -l[0] + np.sqrt(x[0]**2)\n",
    "    w1[1,0] = -l[1] + np.sqrt(x[1]**2+(x[2]-5)**2)\n",
    "    w1[2,0] = -l[2] + np.sqrt(x[1]**2+(x[2]-2)**2)\n",
    "    w2 = H * lx - x\n",
    "    deltacap = -np.linalg.inv(A1.T*np.linalg.inv(B1*cl*B1.T)*A1 + H.T * px * H ) * (A1.T * np.linalg.inv(B1 * p * B1.T) * w1 - H.T * px * w2)\n",
    "    vcap1 = -cl * B1.T * np.linalg.inv(B1*cl*B1.T) * (A1*deltacap + w1)\n",
    "    vcap2 = H *deltacap - w2 \n",
    "\n",
    "    f += 1 \n",
    "    if (abs(deltacap)<0.001).all() and (abs(vcap1)<0.001).all() and (abs(vcap2)<0.001).all():\n",
    "        print(f\"answer after {f} iter\")\n",
    "        print(f\"x is = \\n{x}\") , \n",
    "        break\n",
    "        \n",
    "    x = x + deltacap\n",
    "    l = l + vcap1\n",
    "    lx = lx + vcap2\n",
    "    "
   ]
  },
  {
   "cell_type": "markdown",
   "metadata": {},
   "source": [
    "### Question 8-4"
   ]
  },
  {
   "cell_type": "code",
   "execution_count": null,
   "metadata": {},
   "outputs": [],
   "source": [
    "xb, yb = sp.symbols(\"xb yb\")\n",
    "f = sp.Matrix([[sp.atan(yb/xb),-sp.atan(yb/xb)-sp.atan(yb/xb)+ sp.pi, sp.atan(yb / (999.985106523716 - xb))]]).transpose()\n",
    "# xc = 999.985106523716  from 3-21\n",
    "H = sp.Matrix([[1,0],[0,1]])\n",
    "clx = sp.Matrix([[25,0],[0,25]])\n",
    "cl = sp.Matrix(sp.diag(((5*sp.pi/180)**2), ((5*sp.pi/180)**2), ((5*sp.pi/180)**2)))\n",
    "p = cl.inv()\n",
    "px = clx.inv()\n",
    "l = sp.Matrix([[(59 + 59/60 + 58/3600)*sp.pi/180, (59 + 59/60 + 51/3600)*sp.pi/180, (59 + 59/60 + 54/3600)*sp.pi/180]]).transpose()\n",
    "lx = sp.Matrix([[500,866]]).transpose()\n",
    "var = sp.Matrix([xb,yb])\n",
    "B = sp.eye(4)\n",
    "x = sp.Matrix([[500,500*np.tan(np.radians(60))]]).transpose() "
   ]
  },
  {
   "cell_type": "code",
   "execution_count": null,
   "metadata": {},
   "outputs": [],
   "source": [
    "for i in range(2):\n",
    "    A1 = f.jacobian(var)\n",
    "    A1 = (A1.subs(((xb, x[0]),(yb, x[1])))).evalf()\n",
    "    w1 = (-l +f.subs(((xb, x[0]),(yb, x[1])), dtype=float)).evalf()\n",
    "    w2 = H * lx - x\n",
    "\n",
    "    deltacap = ((A1.transpose() * p * A1 + H.transpose() * clx * H).inv()) .evalf()* (-A1.transpose() * p * w1 + H.transpose() * px * w2).evalf()  \n",
    "    vcap1 = (A1 * deltacap + w1).evalf()\n",
    "    vcap2 = (H * deltacap - w2).evalf()\n",
    "    if (sp.matrix2numpy(deltacap) <np.matrix([0.0000000001])).all() and (sp.matrix2numpy(vcap1) <np.matrix([0.0000000001])).all() and (sp.matrix2numpy(vcap2) <np.matrix([0.0000000001])).all():\n",
    "        print(f\"after {i+1} iteration the answer is = \\n\\n\")\n",
    "        print(pd.DataFrame(sp.matrix2numpy(x)))\n",
    "        break\n",
    "    x = x + deltacap\n",
    "    lx = lx + vcap2\n",
    "    l = l +vcap1\n"
   ]
  },
  {
   "cell_type": "markdown",
   "metadata": {},
   "source": [
    "### Question 8-5"
   ]
  },
  {
   "cell_type": "code",
   "execution_count": null,
   "metadata": {},
   "outputs": [],
   "source": [
    "# observations \n",
    "l = np.matrix([1.1,0.9,1,np.radians(60)]).T\n",
    "Ql = np.matrix(np.diag([1,1,1,np.radians(1)]))\n",
    "\n",
    "# weighted parameters \n",
    "lx = np.matrix([np.radians(60)]).T\n",
    "Clx = np.matrix(np.diag([10]))\n",
    "px = np.linalg.inv(Clx)\n",
    "H = np.matrix([1])\n",
    "\n",
    "# initial values\n",
    "x = np.matrix([np.radians(60)]).T\n",
    "w1 = np.matrix(np.zeros((2,1)))\n",
    "B1 = np.matrix(np.zeros((2,4)))\n",
    "A1 = np.matrix(np.zeros((2,1)))\n",
    "\n",
    "for j in range(100):\n",
    "    A1[0,0] = np.cos(x[0])\n",
    "    A1[1,0] = l[0]*np.cos(x[0]) + l[2]*np.cos(x[0]+l[3])\n",
    "    B1[0,1] = l[2]*np.sin(l[3])/l[1]**2\n",
    "    B1[0,2] = -np.sin(l[3])/l[1]\n",
    "    B1[0,3] = -l[2]*np.cos(l[3])/l[1]\n",
    "    B1[1,0] = np.sin(x[0])\n",
    "    B1[1,2] = np.sin(x[0]+l[3])\n",
    "    B1[1,3] = l[2] * np.cos(x[0]+l[3])\n",
    "    cw = -B1 * Ql * B1.T\n",
    "    cwi = np.linalg.inv(cw)\n",
    "    w1[0,0] = np.sin(x[0])-l[2]*np.sin(l[2])/l[0]\n",
    "    w1[1,0] = l[0]*np.sin(x[0]) + l[2]*np.cos(x[0]+l[3])\n",
    "    w2 = H * lx -x[0]\n",
    "    deltacap = -np.linalg.inv(A1.T*cwi*A1+H.T*np.linalg.inv(px)*H)*(A1.T*cwi*w1-H.T*px*w2)\n",
    "    vcap1 = -Ql*B1.T*np.linalg.inv(B1*Ql*B1.T)*(A1*deltacap+w1)\n",
    "    vcap2 = H* deltacap - w2\n",
    "    \n",
    "    if all(abs(deltacap)<0.01) :\n",
    "        print(f\"answer after {j+1} iter\")\n",
    "        print(f\"x is = \\n{x} rad equal to {np.degrees(x)} degrees\"), \n",
    "        break\n",
    "        \n",
    "    x = x + deltacap\n",
    "    \n",
    "   \n",
    " \n"
   ]
  },
  {
   "cell_type": "markdown",
   "metadata": {},
   "source": [
    "# Chapter 12"
   ]
  },
  {
   "cell_type": "markdown",
   "metadata": {},
   "source": [
    "### Question 12-1"
   ]
  },
  {
   "cell_type": "code",
   "execution_count": null,
   "metadata": {},
   "outputs": [],
   "source": [
    "obser = np.array([9.3,6.6,7.9,6.8,\n",
    "                  6.1,5.9,6.1,7.8,\n",
    "                  7.2,8,7.1,4.9,\n",
    "                  5.7,5.2,6.9,6.2,\n",
    "                  10.1,9.7,4.1,6.2])\n",
    "obser = np.sort(obser)\n",
    "count = round((max(obser) - min(obser))/((0.5))) + 1\n",
    "obser\n",
    "obser1 = [4.1,  4.9,  5.2,  5.7,  5.9]\n",
    "obser2 =[6.1,  6.1,  6.2,  6.2,  6.6,  6.8,\n",
    "        6.9,  7.1,  7.2]\n",
    "obser3 =[ 7.8,  7.9,  8. ,  9.3,  9.7, 10.1]\n",
    "obser4 = [obser1,obser2,obser3]\n",
    "y = [len(obser1),len(obser2),len(obser3)]"
   ]
  },
  {
   "cell_type": "code",
   "execution_count": null,
   "metadata": {},
   "outputs": [],
   "source": [
    "fig, ax = plt.subplots(2,1,figsize=(18,4),subplot_kw={'facecolor':'#50dbf0'})\n",
    "n,bins,_ = ax[0].hist(obser,count)\n",
    "ax[1].bar(obser1,len(obser1),width=0.8)\n",
    "ax[1].bar(obser2,len(obser2),width=0.4)\n",
    "ax[1].bar(obser3,len(obser3),width=0.8)\n",
    "ax[1].set_xticks([np.mean(obser1),np.mean(obser2),np.mean(obser3)])\n",
    "plt.show()\n",
    "# histogram with 12 bins \n",
    "# histogram with 3 bins "
   ]
  },
  {
   "cell_type": "code",
   "execution_count": null,
   "metadata": {},
   "outputs": [],
   "source": [
    "# Example for one of the bins \n",
    "s = np.std(obser)\n",
    "El = np.mean(obser)\n",
    "print(El)\n",
    "print(s**2)"
   ]
  },
  {
   "cell_type": "code",
   "execution_count": null,
   "metadata": {},
   "outputs": [],
   "source": [
    "z1 = (max(obser2) - El)/s\n",
    "z2 = (min(obser2) - El)/s"
   ]
  },
  {
   "cell_type": "code",
   "execution_count": null,
   "metadata": {},
   "outputs": [],
   "source": [
    "P = norm.cdf(z1) - norm.cdf(z2) "
   ]
  },
  {
   "cell_type": "code",
   "execution_count": null,
   "metadata": {},
   "outputs": [],
   "source": [
    "P * len(obser2)"
   ]
  },
  {
   "cell_type": "code",
   "execution_count": null,
   "metadata": {},
   "outputs": [],
   "source": [
    "chi2.ppf(0.025, 4) < P * len(obser2) < chi2.ppf(0.0925, 4)"
   ]
  },
  {
   "cell_type": "markdown",
   "metadata": {},
   "source": [
    "### Question 11-2"
   ]
  },
  {
   "cell_type": "code",
   "execution_count": null,
   "metadata": {},
   "outputs": [],
   "source": [
    "data = np.array([132.2,128,125,130.2,126.6,128.6,127.8,128.4,128,128.4,128,128.5,128.4,128.7,127.2])"
   ]
  },
  {
   "cell_type": "code",
   "execution_count": null,
   "metadata": {},
   "outputs": [],
   "source": [
    "El = np.mean(data)\n",
    "sigmael = np.sqrt((sum((data - 130)**2))/len(data))\n",
    "f =(El - 130)/sigmael\n",
    "kisimax = scipy.stats.t.ppf(1-0.05/2,len(data)-1)\n",
    "kisimin = scipy.stats.t.ppf(0.05/2,len(data)-1)\n",
    "kisimin<f<kisimax"
   ]
  },
  {
   "cell_type": "code",
   "execution_count": null,
   "metadata": {},
   "outputs": [],
   "source": [
    "#part 3\n",
    "s2 =(sum((data - El)**2))/len(data)\n",
    "f = (len(data)-1)*s2/9\n",
    "chi2.ppf(0.05/2, len(data)-1) < f < chi2.ppf(1 - 0.05/2, len(data)-1) "
   ]
  },
  {
   "cell_type": "markdown",
   "metadata": {},
   "source": [
    "### Question 11-3"
   ]
  },
  {
   "cell_type": "code",
   "execution_count": null,
   "metadata": {},
   "outputs": [],
   "source": [
    "n = 30\n",
    "alpha = 0.05\n",
    "el = 190.09 \n",
    "sigma = 0.006/np.sqrt(30)\n",
    "taumin, taumax = tau(n, alpha)\n",
    "kisimin = taumin * ((n-1)/n)**2 * sigma + el \n",
    "kisimax = taumax * ((n-1)/n)**2 * sigma + el\n",
    "print([kisimin,kisimax])"
   ]
  },
  {
   "cell_type": "markdown",
   "metadata": {},
   "source": [
    "### Question 11-5"
   ]
  },
  {
   "cell_type": "code",
   "execution_count": null,
   "metadata": {},
   "outputs": [],
   "source": [
    "l = np.radians(np.matrix([6.6,7.9,6.8,7.2,7.1,5.7,6.9,\n",
    "                          6.1,5.9,6.1,7.8,8,4.9,5.2,6.2,9.7,6.2]).T /3600 + 30 + 15/60)\n",
    "# deleted : 9.3 -->pos(0) , 4.1-->pos(7) , 10.1 -->pos(7)\n",
    "list(enumerate(l))"
   ]
  },
  {
   "cell_type": "code",
   "execution_count": null,
   "metadata": {},
   "outputs": [],
   "source": [
    "xcap = np.mean(l)\n",
    "xcap"
   ]
  },
  {
   "cell_type": "code",
   "execution_count": null,
   "metadata": {},
   "outputs": [],
   "source": [
    "vcap = l - xcap "
   ]
  },
  {
   "cell_type": "code",
   "execution_count": null,
   "metadata": {},
   "outputs": [],
   "source": [
    "variansfactor = vcap.T * vcap / (len(l)-1)"
   ]
  },
  {
   "cell_type": "code",
   "execution_count": null,
   "metadata": {},
   "outputs": [],
   "source": [
    "variansfactor"
   ]
  },
  {
   "cell_type": "code",
   "execution_count": null,
   "metadata": {},
   "outputs": [],
   "source": [
    "f = 19 * variansfactor / (np.radians(1/3600)**2)"
   ]
  },
  {
   "cell_type": "code",
   "execution_count": null,
   "metadata": {},
   "outputs": [],
   "source": [
    "kisimax = chi2.ppf(1-0.05/2,(len(l)-1))\n",
    "kisimin = chi2.ppf(0.05/2,(len(l)-1))"
   ]
  },
  {
   "cell_type": "code",
   "execution_count": null,
   "metadata": {},
   "outputs": [],
   "source": [
    "print(kisimin < f < kisimax)\n",
    "print(f)\n",
    "print([kisimin,kisimax])"
   ]
  },
  {
   "cell_type": "code",
   "execution_count": null,
   "metadata": {},
   "outputs": [],
   "source": [
    "#Baarada \n",
    "fi = vcap / (np.radians(1/3600))\n",
    "print(max(abs(fi)))\n",
    "list(enumerate(fi))\n"
   ]
  },
  {
   "cell_type": "code",
   "execution_count": null,
   "metadata": {},
   "outputs": [],
   "source": [
    "list(enumerate((tau(len(l)-1,0.05)[0]>fi) | (fi>tau(len(l)-1,0.05)[1])))"
   ]
  },
  {
   "cell_type": "markdown",
   "metadata": {},
   "source": [
    "### Factor variance gets approved but we yet have blunder which means mismodeling "
   ]
  },
  {
   "cell_type": "markdown",
   "metadata": {},
   "source": [
    "### Question 11-8"
   ]
  },
  {
   "cell_type": "code",
   "execution_count": null,
   "metadata": {},
   "outputs": [],
   "source": [
    "n,xbar,sigma,alpha = 100, 21 , 1.5 , 0.05\n",
    "(xbar-20)/(sigma/np.sqrt(n))>scipy.stats.norm.ppf(0.05)\n",
    "# The test doesnt support the actual value to be more than 220 cm"
   ]
  },
  {
   "cell_type": "markdown",
   "metadata": {},
   "source": [
    "### Question 11-10"
   ]
  },
  {
   "cell_type": "code",
   "execution_count": null,
   "metadata": {},
   "outputs": [],
   "source": [
    "n, xdelta, s, alpha = 12, 60 , 30/3600, 0.05\n",
    "muxinterval = (xdelta - (scipy.stats.t.ppf(1-0.05/2,11)* s /np.sqrt(n)) , xdelta - (scipy.stats.t.ppf(0.05/2,11)* s /np.sqrt(n)))\n",
    "muxinterval"
   ]
  },
  {
   "cell_type": "code",
   "execution_count": null,
   "metadata": {},
   "outputs": [],
   "source": [
    "sigmaxinterval = ((n-1)*s**2/scipy.stats.chi2.ppf(1-0.05/2,11) , (n-1)*s**2/scipy.stats.chi2.ppf(0.05/2,11))\n",
    "sigmaxinterval"
   ]
  },
  {
   "cell_type": "markdown",
   "metadata": {},
   "source": [
    "### Question 11-11"
   ]
  },
  {
   "cell_type": "code",
   "execution_count": null,
   "metadata": {},
   "outputs": [],
   "source": [
    "# H0:sigma2I/sigma2II != 1\n",
    "n, m = 8, 12\n",
    "alpha = 0.05\n",
    "sigma2I, sigma2II = 0.1**2,0.07**2\n",
    "f = sigma2I / sigma2II\n",
    "kisimin = scipy.stats.f.ppf(0.05/2,n-1,m-1) \n",
    "kisimax = scipy.stats.f.ppf(1-0.05/2,n-1,m-1) \n",
    "kisimin < f < kisimax\n",
    "# there is no evidence that H0 can be disclamied"
   ]
  },
  {
   "cell_type": "markdown",
   "metadata": {},
   "source": [
    "### Question 12-11"
   ]
  },
  {
   "cell_type": "code",
   "execution_count": null,
   "metadata": {},
   "outputs": [],
   "source": [
    "#1\n",
    "print(scipy.stats.norm.cdf(1.65) - scipy.stats.norm.cdf(0.35))\n",
    "#2\n",
    "print(scipy.stats.norm.cdf(2.42) - scipy.stats.norm.cdf(-1.96))"
   ]
  },
  {
   "cell_type": "markdown",
   "metadata": {},
   "source": [
    "### Question 13-11"
   ]
  },
  {
   "cell_type": "code",
   "execution_count": null,
   "metadata": {},
   "outputs": [],
   "source": [
    "n, xbar, s, mu = 9,8.4,0.04,8\n",
    "f = (xbar - mu)/(s / np.sqrt(n))\n",
    "f > scipy.stats.t.ppf(0.05,8)\n",
    "# H0 is disclamied and mu equals 8 cm "
   ]
  },
  {
   "cell_type": "markdown",
   "metadata": {},
   "source": [
    "### Question 14-11"
   ]
  },
  {
   "cell_type": "code",
   "execution_count": null,
   "metadata": {},
   "outputs": [],
   "source": [
    "u,k = 2, scipy.stats.chi2.ppf(0.99,2)\n",
    "cx = np.matrix([[0.025,0.0075],\n",
    "               [0.0075,0.007]])\n",
    "\n",
    "lambda1 = (cx[0,0] + cx[1,1])*0.5 + 0.5 * np.sqrt((cx[0,0]-cx[1,1])**2+ 4 *cx[0,1]**2)\n",
    "lambda2 = (cx[0,0] + cx[1,1])*0.5 - 0.5 * np.sqrt((cx[0,0]-cx[1,1])**2+ 4 * cx[0,1]**2)\n",
    "\n",
    "theta = 0.5 * np.arctan(2*cx[0,1]/(cx[0,0]-cx[1,1]))\n",
    "\n",
    "a = np.sqrt(k * lambda1)\n",
    "b = np.sqrt(k *lambda2)\n",
    "\n",
    "t = np.linspace(0,360,36000)\n",
    "xo = np.matrix([a * np.sin(np.radians(t)),\n",
    "           b * np.cos(np.radians(t))]).T\n",
    "\n",
    "c, s = np.cos(theta), np.sin(theta)\n",
    "R = np.array(((c, -s), (s, c)))\n",
    "\n",
    "fig, ax = plt.subplots(figsize=(18,8),subplot_kw={'facecolor':'#50dbf0'})\n",
    "ax.plot((xo *R)[:,0],(xo *R)[:,1],\"orange\",label =r\"$\\frac{X^2}{0.505240569243449^2} + \\frac{Y^2}{0.19865260907874702^2}=1$\")\n",
    "\n",
    "ax.spines['right'].set_color('none')\n",
    "ax.spines['top'].set_color('none')\n",
    "\n",
    "#move\n",
    "ax.spines['left'].set_position('zero')\n",
    "ax.spines['bottom'].set_position('zero')\n",
    "\n",
    "\n",
    "plt.legend(prop={\"size\":18})\n",
    "plt.show()"
   ]
  }
 ],
 "metadata": {
  "kernelspec": {
   "display_name": "Python 3",
   "language": "python",
   "name": "python3"
  },
  "language_info": {
   "codemirror_mode": {
    "name": "ipython",
    "version": 3
   },
   "file_extension": ".py",
   "mimetype": "text/x-python",
   "name": "python",
   "nbconvert_exporter": "python",
   "pygments_lexer": "ipython3",
   "version": "3.7.0"
  }
 },
 "nbformat": 4,
 "nbformat_minor": 2
}
